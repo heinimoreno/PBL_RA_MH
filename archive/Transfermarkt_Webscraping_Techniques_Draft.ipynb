{
 "cells": [
  {
   "cell_type": "markdown",
   "metadata": {},
   "source": [
    "# Extracting Player Data from Transfermarkt (Example)"
   ]
  },
  {
   "cell_type": "markdown",
   "metadata": {},
   "source": [
    "In this example, we will scrape the player data of **Erling Haaland** \\\n",
    "*for further information watch the youtube video: https://www.youtube.com/watch?v=cBVVRQG6eak*"
   ]
  },
  {
   "cell_type": "code",
   "execution_count": 2,
   "metadata": {},
   "outputs": [],
   "source": [
    "import re #allows us to use regular expressions\n",
    "import requests #allows us to download/extract the data from the page\n",
    "\n",
    "from bs4 import BeautifulSoup #allows us to parse the page\n"
   ]
  },
  {
   "cell_type": "code",
   "execution_count": 3,
   "metadata": {},
   "outputs": [],
   "source": [
    "url = 'https://www.transfermarkt.com/erling-haaland/profil/spieler/418560' #418560 is the player id of erling haaland\n",
    "player_id = url.split('/')[-1] #split the url by every '/', giving us the last one [-1]"
   ]
  },
  {
   "cell_type": "code",
   "execution_count": 4,
   "metadata": {},
   "outputs": [],
   "source": [
    "headers = {\"User-Agent\": \"Mozilla/5.0 (Windows NT 10.0; Win64; x64) AppleWebKit/537.36 (KHTML, like Gecko) Chrome/120.0.0.0 Safari/537.36\"} \n",
    "#we need to add a user agent to our request, otherwise we will get a 403 error\n",
    "#for value of 'User-Agent' go to https://www.whatismybrowser.com/detect/what-http-headers-is-my-browser-sending on your ChromeBrowser and copy the value of 'User-Agent'"
   ]
  },
  {
   "cell_type": "markdown",
   "metadata": {},
   "source": [
    "Let's make our request to the page"
   ]
  },
  {
   "cell_type": "code",
   "execution_count": 5,
   "metadata": {},
   "outputs": [
    {
     "data": {
      "text/plain": [
       "200"
      ]
     },
     "execution_count": 5,
     "metadata": {},
     "output_type": "execute_result"
    }
   ],
   "source": [
    "response = requests.get(url, headers=headers) #get the page\n",
    "\n",
    "#make sure we got a 200 response\n",
    "response.status_code"
   ]
  },
  {
   "cell_type": "code",
   "execution_count": 6,
   "metadata": {},
   "outputs": [],
   "source": [
    "#parse the page\n",
    "soup = BeautifulSoup(response.content, 'html.parser') #takes source code and parses it into a BeautifulSoup object"
   ]
  },
  {
   "cell_type": "markdown",
   "metadata": {},
   "source": [
    "Next we look at the things on the page that we want to extract. For that, we use the Developer Tool on the Transfermarkt page for Erling Haaland\n",
    "- Step 1: get the html element that contains the data we want\n",
    "- Step 2: get the class of that element to narrow down the search"
   ]
  },
  {
   "cell_type": "markdown",
   "metadata": {},
   "source": [
    "## Technique #1: Using CSS Selectors to extracting data"
   ]
  },
  {
   "cell_type": "markdown",
   "metadata": {},
   "source": [
    "technique is very simple to do on websites that are set up properly..."
   ]
  },
  {
   "cell_type": "markdown",
   "metadata": {},
   "source": [
    "### Extract Name + Yersey Number"
   ]
  },
  {
   "cell_type": "code",
   "execution_count": 8,
   "metadata": {},
   "outputs": [
    {
     "data": {
      "text/plain": [
       "['',\n",
       " '',\n",
       " '                        #9                    ',\n",
       " '                                Erling Haaland ']"
      ]
     },
     "execution_count": 8,
     "metadata": {},
     "output_type": "execute_result"
    }
   ],
   "source": [
    "#Extract Name of Erling Haaland\n",
    "soup.select_one('h1[class=\"data-header__headline-wrapper\"]').text.split('\\n') #in the brackets we recreate the path to the element we want to get, inside [] we put the class of the element"
   ]
  },
  {
   "cell_type": "code",
   "execution_count": 12,
   "metadata": {},
   "outputs": [
    {
     "data": {
      "text/plain": [
       "'Erling Haaland'"
      ]
     },
     "execution_count": 12,
     "metadata": {},
     "output_type": "execute_result"
    }
   ],
   "source": [
    "# we get a list of strings, we want to get the name of the player\n",
    "# the name is the last element of the list, so we can get it by [-1]\n",
    "# we also need to remove the whitespace at the beginning and end of the string, so we use strip()\n",
    "\n",
    "player_name = soup.select_one('h1[class=\"data-header__headline-wrapper\"]').text.split('\\n')[-1].strip()\n",
    "player_name"
   ]
  },
  {
   "cell_type": "code",
   "execution_count": 19,
   "metadata": {},
   "outputs": [
    {
     "data": {
      "text/plain": [
       "'#9'"
      ]
     },
     "execution_count": 19,
     "metadata": {},
     "output_type": "execute_result"
    }
   ],
   "source": [
    "#for the yersey we need the second last element of the list\n",
    "\n",
    "player_number = soup.select_one('h1[class=\"data-header__headline-wrapper\"]').text.split('\\n')[-2].strip()\n",
    "player_number"
   ]
  },
  {
   "cell_type": "code",
   "execution_count": 26,
   "metadata": {},
   "outputs": [
    {
     "data": {
      "text/plain": [
       "9"
      ]
     },
     "execution_count": 26,
     "metadata": {},
     "output_type": "execute_result"
    }
   ],
   "source": [
    "#we could also get it by using another path\n",
    "#leave out whitespace at the beginning and end of the string using strip() and get rid of the '#' using replace()\n",
    "\n",
    "player_number2 = soup.select_one('span[class=\"data-header__shirt-number\"]').text.strip().replace('#', '')\n",
    "player_number2 = int(player_number2) #convert the string to an integer\n",
    "player_number2"
   ]
  },
  {
   "cell_type": "code",
   "execution_count": 27,
   "metadata": {},
   "outputs": [
    {
     "data": {
      "text/plain": [
       "int"
      ]
     },
     "execution_count": 27,
     "metadata": {},
     "output_type": "execute_result"
    }
   ],
   "source": [
    "#check datatype of player_number2\n",
    "type(player_number2)"
   ]
  },
  {
   "cell_type": "markdown",
   "metadata": {},
   "source": [
    "## Technique #2: Using Regular Expressions (RegEx)"
   ]
  },
  {
   "cell_type": "markdown",
   "metadata": {},
   "source": [
    "finding patterns in source code to then extract the information"
   ]
  },
  {
   "cell_type": "markdown",
   "metadata": {},
   "source": [
    "### Extract contract information"
   ]
  },
  {
   "cell_type": "markdown",
   "metadata": {},
   "source": [
    "we want to extract the 'Contract expires' data from the profile page of Erling Haaland \\\n",
    "*https://www.transfermarkt.com/erling-haaland/profil/spieler/418560* \\\n",
    "\\\n",
    "if you look through source code, you see that there is no real good way to extract this information using CSS selectors since classes are random. \\\n",
    "so its too difficult to use regular webscraping techniques, thats why we inspect it further by using RegEx. RegEx can be used to define pattern of the source code in order to extract the needed information (e.g. here: 'Jun 30, 2027') "
   ]
  },
  {
   "cell_type": "markdown",
   "metadata": {},
   "source": [
    "for this, we need to use the page source of the website:\n",
    "1. right-click on page\n",
    "2. click 'View page source' (its basically the same as in the Dev Tool, but just the raw code)\n",
    "3. search for 'Contract expires'\n",
    "4. Copy a good junk before and after the 'Contract expires'\n",
    "5. visit regex101.com\n",
    "6. Paste it into the test string & make sure your flavour is Python\n",
    "7. idea: we want to figure out a way to extract 'Jun 30, 2027'"
   ]
  },
  {
   "cell_type": "markdown",
   "metadata": {},
   "source": [
    "First we **grab the text** 'Contract expires: '\\\n",
    "- **.*** will go on everything below the text \n",
    "- use **()** around the data/text we want to capture \n",
    "- then lets **define whats after the captured data** \n",
    "\n",
    "Final Goal: that we just have one group!"
   ]
  },
  {
   "cell_type": "code",
   "execution_count": 29,
   "metadata": {},
   "outputs": [
    {
     "data": {
      "text/plain": [
       "'Jun 30, 2027'"
      ]
     },
     "execution_count": 29,
     "metadata": {},
     "output_type": "execute_result"
    }
   ],
   "source": [
    "player_contract_expiry = re.search(\"Contract expires: .*__content\\\">(.*?)</span>\", str(soup)).group(1)\n",
    "player_contract_expiry"
   ]
  },
  {
   "cell_type": "markdown",
   "metadata": {},
   "source": [
    "## Technique #3: Using their API's"
   ]
  },
  {
   "cell_type": "markdown",
   "metadata": {},
   "source": [
    "We use their API's to grab their data that is being loaded on to Transfermarkt. \\\n",
    "\\\n",
    "The data on Transfermarkt is actually loaded by asome endpoints that they have. There are a lot of different endpoints they have. We can call these endpoints and extract that data. So we don't have to do parsing (and techniqually not even loading the page)\n",
    "\\\n",
    "\\\n",
    "easiest way to find the enpoints:\n",
    "- in the Dev Tool, use the 'Network' tab and click on 'Fetch/XHR'(= everything and all the enpoints that are being loaded every time you load the page or scrolling)\n",
    "- reload the page\n",
    "- look at 'Headers' and look for API in the Request URL\n",
    "- 'Preview': this is all the data that is being returned\n",
    "\n",
    "now get the data:\n",
    "- right-click on name of the actual endpoint and click on 'Copy as cURL (bash)' (this is eventually all the python code we would need to make to call the endpoint)\n",
    "- go to curlconverter.com and paste it ()\n",
    "- copy just the last part 'response = requests.get.....'\n",
    "- make sure you get rid off the cookies parameter\n"
   ]
  },
  {
   "attachments": {
    "image.png": {
     "image/png": "[encoded data removed]"
    }
   },
   "cell_type": "markdown",
   "metadata": {},
   "source": [
    "We want to get the data from this chart: \\\n",
    "![](attachment:image.png)"
   ]
  },
  {
   "cell_type": "code",
   "execution_count": 32,
   "metadata": {},
   "outputs": [],
   "source": [
    "#we replace players_id with the variable player_id to get the data of the player we want\n",
    "response = requests.get(f'https://www.transfermarkt.com/ceapi/marketValueDevelopment/graph/{player_id}', headers=headers)\n"
   ]
  },
  {
   "cell_type": "code",
   "execution_count": 33,
   "metadata": {},
   "outputs": [
    {
     "data": {
      "text/plain": [
       "200"
      ]
     },
     "execution_count": 33,
     "metadata": {},
     "output_type": "execute_result"
    }
   ],
   "source": [
    "#check if we got a 200 response\n",
    "response.status_code"
   ]
  },
  {
   "cell_type": "code",
   "execution_count": 34,
   "metadata": {},
   "outputs": [
    {
     "data": {
      "text/plain": [
       "{'list': [{'x': 1482015600000,\n",
       "   'y': 200000,\n",
       "   'mw': '€200k',\n",
       "   'datum_mw': 'Dec 18, 2016',\n",
       "   'verein': 'Bryne FK',\n",
       "   'age': '16',\n",
       "   'wappen': 'https://tmssl.akamaized.net/images/wappen/profil/1057.png?lm=1480871779'},\n",
       "  {'x': 1513983600000,\n",
       "   'y': 300000,\n",
       "   'mw': '€300k',\n",
       "   'datum_mw': 'Dec 23, 2017',\n",
       "   'verein': 'Molde FK',\n",
       "   'age': '17',\n",
       "   'wappen': 'https://tmssl.akamaized.net/images/wappen/profil/687.png?lm=1409159512'},\n",
       "  {'x': 1536530400000,\n",
       "   'y': 2000000,\n",
       "   'mw': '€2.00m',\n",
       "   'datum_mw': 'Sep 10, 2018',\n",
       "   'verein': 'Molde FK',\n",
       "   'age': '18',\n",
       "   'wappen': ''},\n",
       "  {'x': 1546124400000,\n",
       "   'y': 5000000,\n",
       "   'mw': '€5.00m',\n",
       "   'datum_mw': 'Dec 30, 2018',\n",
       "   'verein': 'Molde FK',\n",
       "   'age': '18',\n",
       "   'wappen': ''},\n",
       "  {'x': 1559512800000,\n",
       "   'y': 5000000,\n",
       "   'mw': '€5.00m',\n",
       "   'datum_mw': 'Jun 3, 2019',\n",
       "   'verein': 'Red Bull Salzburg',\n",
       "   'age': '18',\n",
       "   'wappen': 'https://tmssl.akamaized.net/images/wappen/profil/409_1557781653.png?lm=1557781653'},\n",
       "  {'x': 1567461600000,\n",
       "   'y': 12000000,\n",
       "   'mw': '€12.00m',\n",
       "   'datum_mw': 'Sep 3, 2019',\n",
       "   'verein': 'Red Bull Salzburg',\n",
       "   'age': '19',\n",
       "   'wappen': ''},\n",
       "  {'x': 1573081200000,\n",
       "   'y': 30000000,\n",
       "   'mw': '€30.00m',\n",
       "   'datum_mw': 'Nov 7, 2019',\n",
       "   'verein': 'Red Bull Salzburg',\n",
       "   'age': '19',\n",
       "   'wappen': ''},\n",
       "  {'x': 1576450800000,\n",
       "   'y': 45000000,\n",
       "   'mw': '€45.00m',\n",
       "   'datum_mw': 'Dec 16, 2019',\n",
       "   'verein': 'Red Bull Salzburg',\n",
       "   'age': '19',\n",
       "   'wappen': ''},\n",
       "  {'x': 1581375600000,\n",
       "   'y': 60000000,\n",
       "   'mw': '€60.00m',\n",
       "   'datum_mw': 'Feb 11, 2020',\n",
       "   'verein': 'Borussia Dortmund',\n",
       "   'age': '19',\n",
       "   'wappen': 'https://tmssl.akamaized.net/images/wappen/profil/16.png?lm=1396275280'},\n",
       "  {'x': 1583881200000,\n",
       "   'y': 80000000,\n",
       "   'mw': '€80.00m',\n",
       "   'datum_mw': 'Mar 11, 2020',\n",
       "   'verein': 'Borussia Dortmund',\n",
       "   'age': '19',\n",
       "   'wappen': ''},\n",
       "  {'x': 1586296800000,\n",
       "   'y': 72000000,\n",
       "   'mw': '€72.00m',\n",
       "   'datum_mw': 'Apr 8, 2020',\n",
       "   'verein': 'Borussia Dortmund',\n",
       "   'age': '19',\n",
       "   'wappen': ''},\n",
       "  {'x': 1600207200000,\n",
       "   'y': 80000000,\n",
       "   'mw': '€80.00m',\n",
       "   'datum_mw': 'Sep 16, 2020',\n",
       "   'verein': 'Borussia Dortmund',\n",
       "   'age': '20',\n",
       "   'wappen': ''},\n",
       "  {'x': 1606345200000,\n",
       "   'y': 100000000,\n",
       "   'mw': '€100.00m',\n",
       "   'datum_mw': 'Nov 26, 2020',\n",
       "   'verein': 'Borussia Dortmund',\n",
       "   'age': '20',\n",
       "   'wappen': ''},\n",
       "  {'x': 1612911600000,\n",
       "   'y': 110000000,\n",
       "   'mw': '€110.00m',\n",
       "   'datum_mw': 'Feb 10, 2021',\n",
       "   'verein': 'Borussia Dortmund',\n",
       "   'age': '20',\n",
       "   'wappen': ''},\n",
       "  {'x': 1623189600000,\n",
       "   'y': 130000000,\n",
       "   'mw': '€130.00m',\n",
       "   'datum_mw': 'Jun 9, 2021',\n",
       "   'verein': 'Borussia Dortmund',\n",
       "   'age': '20',\n",
       "   'wappen': ''},\n",
       "  {'x': 1633557600000,\n",
       "   'y': 150000000,\n",
       "   'mw': '€150.00m',\n",
       "   'datum_mw': 'Oct 7, 2021',\n",
       "   'verein': 'Borussia Dortmund',\n",
       "   'age': '21',\n",
       "   'wappen': ''},\n",
       "  {'x': 1640127600000,\n",
       "   'y': 150000000,\n",
       "   'mw': '€150.00m',\n",
       "   'datum_mw': 'Dec 22, 2021',\n",
       "   'verein': 'Borussia Dortmund',\n",
       "   'age': '21',\n",
       "   'wappen': ''},\n",
       "  {'x': 1654725600000,\n",
       "   'y': 150000000,\n",
       "   'mw': '€150.00m',\n",
       "   'datum_mw': 'Jun 9, 2022',\n",
       "   'verein': 'Borussia Dortmund',\n",
       "   'age': '21',\n",
       "   'wappen': ''},\n",
       "  {'x': 1667430000000,\n",
       "   'y': 170000000,\n",
       "   'mw': '€170.00m',\n",
       "   'datum_mw': 'Nov 3, 2022',\n",
       "   'verein': 'Manchester City',\n",
       "   'age': '22',\n",
       "   'wappen': 'https://tmssl.akamaized.net/images/wappen/profil/281.png?lm=1467356331'},\n",
       "  {'x': 1687212000000,\n",
       "   'y': 180000000,\n",
       "   'mw': '€180.00m',\n",
       "   'datum_mw': 'Jun 20, 2023',\n",
       "   'verein': 'Manchester City',\n",
       "   'age': '22',\n",
       "   'wappen': ''},\n",
       "  {'x': 1702940400000,\n",
       "   'y': 180000000,\n",
       "   'mw': '€180.00m',\n",
       "   'datum_mw': 'Dec 19, 2023',\n",
       "   'verein': 'Manchester City',\n",
       "   'age': '23',\n",
       "   'wappen': 'https://tmssl.akamaized.net/images/wappen/profil/281.png?lm=1467356331'}],\n",
       " 'current': '€180.00m',\n",
       " 'highest': '€180.00m',\n",
       " 'highest_date': 'Jun 20, 2023',\n",
       " 'last_change': 'Dec 19, 2023',\n",
       " 'details_url': '/erling-haaland/marktwertverlauf/spieler/418560',\n",
       " 'thread': {'url': '', 'thread_title': '', 'count_replies': ''},\n",
       " 'translations': {'market value': 'Market value',\n",
       "  'team': 'Club',\n",
       "  'age': 'Age',\n",
       "  'resetZoom': 'Vollansicht',\n",
       "  'current': 'Current Market Value\\n\\n',\n",
       "  'highest': 'Highest market value',\n",
       "  'thread': 'View market value analysis',\n",
       "  'forum': 'Forum',\n",
       "  'details': 'Market value details',\n",
       "  'headline': 'Market value over time',\n",
       "  'lastChange': 'Last update'}}"
      ]
     },
     "execution_count": 34,
     "metadata": {},
     "output_type": "execute_result"
    }
   ],
   "source": [
    "response.json() #we get a dictionary"
   ]
  },
  {
   "cell_type": "code",
   "execution_count": 35,
   "metadata": {},
   "outputs": [
    {
     "data": {
      "text/plain": [
       "dict_keys(['list', 'current', 'highest', 'highest_date', 'last_change', 'details_url', 'thread', 'translations'])"
      ]
     },
     "execution_count": 35,
     "metadata": {},
     "output_type": "execute_result"
    }
   ],
   "source": [
    "response.json().keys() #get the keys of the dictionary"
   ]
  }
 ],
 "metadata": {
  "kernelspec": {
   "display_name": "Python 3",
   "language": "python",
   "name": "python3"
  },
  "language_info": {
   "codemirror_mode": {
    "name": "ipython",
    "version": 3
   },
   "file_extension": ".py",
   "mimetype": "text/x-python",
   "name": "python",
   "nbconvert_exporter": "python",
   "pygments_lexer": "ipython3",
   "version": "3.11.5"
  }
 },
 "nbformat": 4,
 "nbformat_minor": 2
}
