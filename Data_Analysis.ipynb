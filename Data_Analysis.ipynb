{
 "cells": [
  {
   "cell_type": "markdown",
   "metadata": {},
   "source": [
    "# Data Analysis"
   ]
  },
  {
   "cell_type": "markdown",
   "metadata": {},
   "source": [
    "## LineUp Data 2022/23"
   ]
  },
  {
   "cell_type": "markdown",
   "metadata": {},
   "source": [
    "Data Loading\n",
    "- lineups_2022_2023_1.csv\n",
    "- lineups_2022_2023_2.csv"
   ]
  },
  {
   "cell_type": "code",
   "execution_count": 4,
   "metadata": {},
   "outputs": [
    {
     "data": {
      "text/plain": [
       "(      Position               Player  Age Market Value            Club  \\\n",
       " 0   Goalkeeper   David von Ballmoos   27       €2.50m  BSC Young Boys   \n",
       " 1  Centre-Back       Cédric Zesiger   24       €3.20m  BSC Young Boys   \n",
       " 2  Centre-Back  Fabian Lustenberger   34        €400k  BSC Young Boys   \n",
       " 3    Left-Back       Ulisses Garcia   26       €2.00m  BSC Young Boys   \n",
       " 4   Right-Back           Lewin Blum   20        €750k  BSC Young Boys   \n",
       " \n",
       "                                    Gameday   H/A    Status  Match ID  \n",
       " 0  1. Matchday | Sat, 7/16/22   |  6:00 PM  Home  Starting   3840895  \n",
       " 1  1. Matchday | Sat, 7/16/22   |  6:00 PM  Home  Starting   3840895  \n",
       " 2  1. Matchday | Sat, 7/16/22   |  6:00 PM  Home  Starting   3840895  \n",
       " 3  1. Matchday | Sat, 7/16/22   |  6:00 PM  Home  Starting   3840895  \n",
       " 4  1. Matchday | Sat, 7/16/22   |  6:00 PM  Home  Starting   3840895  ,\n",
       "              Position         Player  Age Market Value           Club  \\\n",
       " 0          Goalkeeper    Marwin Hitz   35        €500k  FC Basel 1893   \n",
       " 1         Centre-Back    Kasim Adams   27       €1.30m  FC Basel 1893   \n",
       " 2         Centre-Back   Michael Lang   32        €500k  FC Basel 1893   \n",
       " 3         Centre-Back   Sergio López   24       €1.00m  FC Basel 1893   \n",
       " 4  Defensive Midfield  Wouter Burger   22       €4.00m  FC Basel 1893   \n",
       " \n",
       "                                    Gameday   H/A    Status  Match ID  \n",
       " 0  32. Matchday | Sun, 5/7/23   |  4:30 PM  Home  Starting   3841148  \n",
       " 1  32. Matchday | Sun, 5/7/23   |  4:30 PM  Home  Starting   3841148  \n",
       " 2  32. Matchday | Sun, 5/7/23   |  4:30 PM  Home  Starting   3841148  \n",
       " 3  32. Matchday | Sun, 5/7/23   |  4:30 PM  Home  Starting   3841148  \n",
       " 4  32. Matchday | Sun, 5/7/23   |  4:30 PM  Home  Starting   3841148  )"
      ]
     },
     "execution_count": 4,
     "metadata": {},
     "output_type": "execute_result"
    }
   ],
   "source": [
    "import pandas as pd\n",
    "\n",
    "# Load the datasets\n",
    "lineups_1 = pd.read_csv('./data/lineups_2022_2023_1.csv')\n",
    "lineups_2 = pd.read_csv('./data/lineups_2022_2023_2.csv')\n",
    "\n",
    "lineups_1.head(), lineups_2.head()\n"
   ]
  },
  {
   "cell_type": "code",
   "execution_count": 6,
   "metadata": {},
   "outputs": [
    {
     "data": {
      "text/html": [
       "<div>\n",
       "<style scoped>\n",
       "    .dataframe tbody tr th:only-of-type {\n",
       "        vertical-align: middle;\n",
       "    }\n",
       "\n",
       "    .dataframe tbody tr th {\n",
       "        vertical-align: top;\n",
       "    }\n",
       "\n",
       "    .dataframe thead th {\n",
       "        text-align: right;\n",
       "    }\n",
       "</style>\n",
       "<table border=\"1\" class=\"dataframe\">\n",
       "  <thead>\n",
       "    <tr style=\"text-align: right;\">\n",
       "      <th></th>\n",
       "      <th>Position</th>\n",
       "      <th>Player</th>\n",
       "      <th>Age</th>\n",
       "      <th>Market Value</th>\n",
       "      <th>Club</th>\n",
       "      <th>Gameday</th>\n",
       "      <th>H/A</th>\n",
       "      <th>Status</th>\n",
       "      <th>Match ID</th>\n",
       "    </tr>\n",
       "  </thead>\n",
       "  <tbody>\n",
       "    <tr>\n",
       "      <th>0</th>\n",
       "      <td>Goalkeeper</td>\n",
       "      <td>David von Ballmoos</td>\n",
       "      <td>27</td>\n",
       "      <td>€2.50m</td>\n",
       "      <td>BSC Young Boys</td>\n",
       "      <td>1. Matchday | Sat, 7/16/22   |  6:00 PM</td>\n",
       "      <td>Home</td>\n",
       "      <td>Starting</td>\n",
       "      <td>3840895</td>\n",
       "    </tr>\n",
       "    <tr>\n",
       "      <th>1</th>\n",
       "      <td>Centre-Back</td>\n",
       "      <td>Cédric Zesiger</td>\n",
       "      <td>24</td>\n",
       "      <td>€3.20m</td>\n",
       "      <td>BSC Young Boys</td>\n",
       "      <td>1. Matchday | Sat, 7/16/22   |  6:00 PM</td>\n",
       "      <td>Home</td>\n",
       "      <td>Starting</td>\n",
       "      <td>3840895</td>\n",
       "    </tr>\n",
       "    <tr>\n",
       "      <th>2</th>\n",
       "      <td>Centre-Back</td>\n",
       "      <td>Fabian Lustenberger</td>\n",
       "      <td>34</td>\n",
       "      <td>€400k</td>\n",
       "      <td>BSC Young Boys</td>\n",
       "      <td>1. Matchday | Sat, 7/16/22   |  6:00 PM</td>\n",
       "      <td>Home</td>\n",
       "      <td>Starting</td>\n",
       "      <td>3840895</td>\n",
       "    </tr>\n",
       "    <tr>\n",
       "      <th>3</th>\n",
       "      <td>Left-Back</td>\n",
       "      <td>Ulisses Garcia</td>\n",
       "      <td>26</td>\n",
       "      <td>€2.00m</td>\n",
       "      <td>BSC Young Boys</td>\n",
       "      <td>1. Matchday | Sat, 7/16/22   |  6:00 PM</td>\n",
       "      <td>Home</td>\n",
       "      <td>Starting</td>\n",
       "      <td>3840895</td>\n",
       "    </tr>\n",
       "    <tr>\n",
       "      <th>4</th>\n",
       "      <td>Right-Back</td>\n",
       "      <td>Lewin Blum</td>\n",
       "      <td>20</td>\n",
       "      <td>€750k</td>\n",
       "      <td>BSC Young Boys</td>\n",
       "      <td>1. Matchday | Sat, 7/16/22   |  6:00 PM</td>\n",
       "      <td>Home</td>\n",
       "      <td>Starting</td>\n",
       "      <td>3840895</td>\n",
       "    </tr>\n",
       "  </tbody>\n",
       "</table>\n",
       "</div>"
      ],
      "text/plain": [
       "      Position               Player  Age Market Value            Club  \\\n",
       "0   Goalkeeper   David von Ballmoos   27       €2.50m  BSC Young Boys   \n",
       "1  Centre-Back       Cédric Zesiger   24       €3.20m  BSC Young Boys   \n",
       "2  Centre-Back  Fabian Lustenberger   34        €400k  BSC Young Boys   \n",
       "3    Left-Back       Ulisses Garcia   26       €2.00m  BSC Young Boys   \n",
       "4   Right-Back           Lewin Blum   20        €750k  BSC Young Boys   \n",
       "\n",
       "                                   Gameday   H/A    Status  Match ID  \n",
       "0  1. Matchday | Sat, 7/16/22   |  6:00 PM  Home  Starting   3840895  \n",
       "1  1. Matchday | Sat, 7/16/22   |  6:00 PM  Home  Starting   3840895  \n",
       "2  1. Matchday | Sat, 7/16/22   |  6:00 PM  Home  Starting   3840895  \n",
       "3  1. Matchday | Sat, 7/16/22   |  6:00 PM  Home  Starting   3840895  \n",
       "4  1. Matchday | Sat, 7/16/22   |  6:00 PM  Home  Starting   3840895  "
      ]
     },
     "execution_count": 6,
     "metadata": {},
     "output_type": "execute_result"
    }
   ],
   "source": [
    "# Concatenate the datasets\n",
    "lineups = pd.concat([lineups_1, lineups_2], axis=0)\n",
    "\n",
    "lineups.head()"
   ]
  },
  {
   "cell_type": "markdown",
   "metadata": {},
   "source": [
    "Check N/A's"
   ]
  },
  {
   "cell_type": "code",
   "execution_count": 7,
   "metadata": {},
   "outputs": [
    {
     "data": {
      "text/plain": [
       "Position           0\n",
       "Player             0\n",
       "Age                0\n",
       "Market Value    2779\n",
       "Club               0\n",
       "Gameday            0\n",
       "H/A                0\n",
       "Status             0\n",
       "Match ID           0\n",
       "dtype: int64"
      ]
     },
     "execution_count": 7,
     "metadata": {},
     "output_type": "execute_result"
    }
   ],
   "source": [
    "# check for missing values\n",
    "missing_values = lineups.isnull().sum()\n",
    "\n",
    "missing_values"
   ]
  },
  {
   "cell_type": "markdown",
   "metadata": {},
   "source": [
    "For the LineUp of each match in season 2022/2023 wo only have missing values in the column `Market Value`, which is not further suprising"
   ]
  },
  {
   "cell_type": "code",
   "execution_count": 8,
   "metadata": {},
   "outputs": [
    {
     "data": {
      "text/plain": [
       "Club\n",
       "FC St. Gallen 1879              718\n",
       "FC Basel 1893                   717\n",
       "Servette FC                     717\n",
       "BSC Young Boys                  716\n",
       "FC Zürich                       716\n",
       "FC Sion                         716\n",
       "FC Winterthur                   713\n",
       "Grasshopper Club Zurich         712\n",
       "FC Luzern                       711\n",
       "FC Lugano                       697\n",
       "CF Barcelona                    176\n",
       "Nîmes Olympique                 118\n",
       "FC Girondins Bordeaux           117\n",
       "Angers SCO                      117\n",
       "Red Star FC                     117\n",
       "AC Ajaccio                      116\n",
       "Stade Rennais FC                116\n",
       "Olympique Marseille             116\n",
       "FC Sochaux-Montbéliard          116\n",
       "Sporting Étoile Club Bastia     116\n",
       "Paris FC                        116\n",
       "AS Saint-Étienne                115\n",
       "US Valenciennes-Anzin           115\n",
       "CS Sedan-Ardennes               115\n",
       "FC Nantes                       114\n",
       "RC Strasbourg Alsace            114\n",
       "Stade Reims                     113\n",
       "FC Metz                         113\n",
       "OGC Nice                        112\n",
       "AS Nancy-Lorraine               111\n",
       "Olympique Lyon                  110\n",
       "Elche CF                         52\n",
       "Real Zaragoza CD                 33\n",
       "Valencia CF                      33\n",
       "Real Mallorca                    21\n",
       "Real Valladolid Deportivo        21\n",
       "Inter Under 17                   20\n",
       "Bologna Under 17                 20\n",
       "Club Real Murcia                 20\n",
       "Athletic Bilbao                  11\n",
       "Name: count, dtype: int64"
      ]
     },
     "execution_count": 8,
     "metadata": {},
     "output_type": "execute_result"
    }
   ],
   "source": [
    "# look at different values in the 'Club' column\n",
    "lineups['Club'].value_counts()"
   ]
  },
  {
   "cell_type": "markdown",
   "metadata": {},
   "source": [
    "In order to only have a look at Swiss Clubs for a first step, we need to filter them."
   ]
  },
  {
   "cell_type": "code",
   "execution_count": 10,
   "metadata": {},
   "outputs": [
    {
     "data": {
      "text/plain": [
       "Club\n",
       "FC St. Gallen 1879         718\n",
       "FC Basel 1893              717\n",
       "Servette FC                717\n",
       "BSC Young Boys             716\n",
       "FC Zürich                  716\n",
       "FC Sion                    716\n",
       "FC Winterthur              713\n",
       "Grasshopper Club Zurich    712\n",
       "FC Luzern                  711\n",
       "FC Lugano                  697\n",
       "Name: count, dtype: int64"
      ]
     },
     "execution_count": 10,
     "metadata": {},
     "output_type": "execute_result"
    }
   ],
   "source": [
    "# dictionary for values in 'Clubs' we want to keep\n",
    "clubs_to_keep = {\n",
    "    'FC St. Gallen 1879': 'FC St. Gallen 1879',\n",
    "    'FC Basel 1893': 'FC Basel 1893',\n",
    "    'Servette FC': 'Servette FC',\n",
    "    'BSC Young Boys': 'BSC Young Boys',\n",
    "    'FC Zürich': 'FC Zürich',\n",
    "    'FC Sion': 'FC Sion',\n",
    "    'FC Winterthur': 'FC Winterthur',\n",
    "    'Grasshopper Club Zurich': 'Grasshopper Club Zurich',\n",
    "    'FC Luzern': 'FC Luzern',\n",
    "    'FC Lugano': 'FC Lugano'\n",
    "}\n",
    "\n",
    "# filter the dataset\n",
    "lineups_SL = lineups[lineups['Club'].isin(clubs_to_keep.keys())]\n",
    "\n",
    "lineups_SL['Club'].value_counts()"
   ]
  },
  {
   "cell_type": "markdown",
   "metadata": {},
   "source": [
    "Wieso hed Lugano so wenig Spiel?"
   ]
  },
  {
   "cell_type": "code",
   "execution_count": null,
   "metadata": {},
   "outputs": [],
   "source": []
  },
  {
   "cell_type": "markdown",
   "metadata": {},
   "source": [
    "## Match Event Data 2022/23"
   ]
  },
  {
   "cell_type": "markdown",
   "metadata": {},
   "source": [
    "Data Loading\n",
    "- match_events_2022_2023_1.csv\n",
    "- match_events_2022_2023_2.csv"
   ]
  },
  {
   "cell_type": "code",
   "execution_count": 11,
   "metadata": {},
   "outputs": [
    {
     "data": {
      "text/plain": [
       "(             Club   H/A Timestamp         Event         Player Event  \\\n",
       " 0  BSC Young Boys  Home       62'          Goal  Christian Fassnacht   \n",
       " 1  BSC Young Boys  Home       77'          Goal         Cedric Itten   \n",
       " 2  BSC Young Boys  Home       81'          Goal        Fabian Rieder   \n",
       " 3  BSC Young Boys  Home       85'          Goal       Wilfried Kanga   \n",
       " 4  BSC Young Boys  Home       63'  Substitution         Cedric Itten   \n",
       " \n",
       "         Remark Event        Player Assist     Player Out  Match ID  \n",
       " 0             Header       Ulisses Garcia            NaN   3840895  \n",
       " 1  Right-footed shot        Cheikh Niasse            NaN   3840895  \n",
       " 2             Header       Wilfried Kanga            NaN   3840895  \n",
       " 3  Right-footed shot  Christian Fassnacht            NaN   3840895  \n",
       " 4           Tactical                  NaN  Meschack Elia   3840895  ,\n",
       "             Club   H/A Timestamp         Event         Player Event  \\\n",
       " 0      FC Zürich  Away       90'          Goal           Roko Simic   \n",
       " 1      FC Zürich  Away       90'          Goal       Ifeanyi Mathew   \n",
       " 2  FC Basel 1893  Home       45'  Substitution  Jean-Kévin Augustin   \n",
       " 3      FC Zürich  Away       54'  Substitution     Bledian Krasniqi   \n",
       " 4  FC Basel 1893  Home       71'  Substitution         Bradley Fink   \n",
       " \n",
       "        Remark Event       Player Assist    Player Out  Match ID  \n",
       " 0           Penalty                 NaN           NaN   3841148  \n",
       " 1  Left-footed shot  Antonio Marchesano           NaN   3841148  \n",
       " 2            Injury                 NaN  Sergio López   3841148  \n",
       " 3          Tactical                 NaN  Junior Ligue   3841148  \n",
       " 4          Tactical                 NaN   Andi Zeqiri   3841148  )"
      ]
     },
     "execution_count": 11,
     "metadata": {},
     "output_type": "execute_result"
    }
   ],
   "source": [
    "# Load the datasets\n",
    "events_1 = pd.read_csv('./data/match_events_2022_2023_1.csv')\n",
    "events_2 = pd.read_csv('./data/match_events_2022_2023_2.csv')\n",
    "\n",
    "events_1.head(), events_2.head()"
   ]
  },
  {
   "cell_type": "code",
   "execution_count": 13,
   "metadata": {},
   "outputs": [
    {
     "data": {
      "text/html": [
       "<div>\n",
       "<style scoped>\n",
       "    .dataframe tbody tr th:only-of-type {\n",
       "        vertical-align: middle;\n",
       "    }\n",
       "\n",
       "    .dataframe tbody tr th {\n",
       "        vertical-align: top;\n",
       "    }\n",
       "\n",
       "    .dataframe thead th {\n",
       "        text-align: right;\n",
       "    }\n",
       "</style>\n",
       "<table border=\"1\" class=\"dataframe\">\n",
       "  <thead>\n",
       "    <tr style=\"text-align: right;\">\n",
       "      <th></th>\n",
       "      <th>Club</th>\n",
       "      <th>H/A</th>\n",
       "      <th>Timestamp</th>\n",
       "      <th>Event</th>\n",
       "      <th>Player Event</th>\n",
       "      <th>Remark Event</th>\n",
       "      <th>Player Assist</th>\n",
       "      <th>Player Out</th>\n",
       "      <th>Match ID</th>\n",
       "    </tr>\n",
       "  </thead>\n",
       "  <tbody>\n",
       "    <tr>\n",
       "      <th>0</th>\n",
       "      <td>BSC Young Boys</td>\n",
       "      <td>Home</td>\n",
       "      <td>62'</td>\n",
       "      <td>Goal</td>\n",
       "      <td>Christian Fassnacht</td>\n",
       "      <td>Header</td>\n",
       "      <td>Ulisses Garcia</td>\n",
       "      <td>NaN</td>\n",
       "      <td>3840895</td>\n",
       "    </tr>\n",
       "    <tr>\n",
       "      <th>1</th>\n",
       "      <td>BSC Young Boys</td>\n",
       "      <td>Home</td>\n",
       "      <td>77'</td>\n",
       "      <td>Goal</td>\n",
       "      <td>Cedric Itten</td>\n",
       "      <td>Right-footed shot</td>\n",
       "      <td>Cheikh Niasse</td>\n",
       "      <td>NaN</td>\n",
       "      <td>3840895</td>\n",
       "    </tr>\n",
       "    <tr>\n",
       "      <th>2</th>\n",
       "      <td>BSC Young Boys</td>\n",
       "      <td>Home</td>\n",
       "      <td>81'</td>\n",
       "      <td>Goal</td>\n",
       "      <td>Fabian Rieder</td>\n",
       "      <td>Header</td>\n",
       "      <td>Wilfried Kanga</td>\n",
       "      <td>NaN</td>\n",
       "      <td>3840895</td>\n",
       "    </tr>\n",
       "    <tr>\n",
       "      <th>3</th>\n",
       "      <td>BSC Young Boys</td>\n",
       "      <td>Home</td>\n",
       "      <td>85'</td>\n",
       "      <td>Goal</td>\n",
       "      <td>Wilfried Kanga</td>\n",
       "      <td>Right-footed shot</td>\n",
       "      <td>Christian Fassnacht</td>\n",
       "      <td>NaN</td>\n",
       "      <td>3840895</td>\n",
       "    </tr>\n",
       "    <tr>\n",
       "      <th>4</th>\n",
       "      <td>BSC Young Boys</td>\n",
       "      <td>Home</td>\n",
       "      <td>63'</td>\n",
       "      <td>Substitution</td>\n",
       "      <td>Cedric Itten</td>\n",
       "      <td>Tactical</td>\n",
       "      <td>NaN</td>\n",
       "      <td>Meschack Elia</td>\n",
       "      <td>3840895</td>\n",
       "    </tr>\n",
       "  </tbody>\n",
       "</table>\n",
       "</div>"
      ],
      "text/plain": [
       "             Club   H/A Timestamp         Event         Player Event  \\\n",
       "0  BSC Young Boys  Home       62'          Goal  Christian Fassnacht   \n",
       "1  BSC Young Boys  Home       77'          Goal         Cedric Itten   \n",
       "2  BSC Young Boys  Home       81'          Goal        Fabian Rieder   \n",
       "3  BSC Young Boys  Home       85'          Goal       Wilfried Kanga   \n",
       "4  BSC Young Boys  Home       63'  Substitution         Cedric Itten   \n",
       "\n",
       "        Remark Event        Player Assist     Player Out  Match ID  \n",
       "0             Header       Ulisses Garcia            NaN   3840895  \n",
       "1  Right-footed shot        Cheikh Niasse            NaN   3840895  \n",
       "2             Header       Wilfried Kanga            NaN   3840895  \n",
       "3  Right-footed shot  Christian Fassnacht            NaN   3840895  \n",
       "4           Tactical                  NaN  Meschack Elia   3840895  "
      ]
     },
     "execution_count": 13,
     "metadata": {},
     "output_type": "execute_result"
    }
   ],
   "source": [
    "# Concatenate the datasets\n",
    "events = pd.concat([events_1, events_2], axis=0)\n",
    "\n",
    "events.head()"
   ]
  },
  {
   "cell_type": "markdown",
   "metadata": {},
   "source": [
    "Check N/A's"
   ]
  },
  {
   "cell_type": "code",
   "execution_count": 14,
   "metadata": {},
   "outputs": [
    {
     "data": {
      "text/plain": [
       "Club                0\n",
       "H/A                 0\n",
       "Timestamp           0\n",
       "Event               0\n",
       "Player Event        1\n",
       "Remark Event        0\n",
       "Player Assist    3110\n",
       "Player Out       1836\n",
       "Match ID            0\n",
       "dtype: int64"
      ]
     },
     "execution_count": 14,
     "metadata": {},
     "output_type": "execute_result"
    }
   ],
   "source": [
    "# check for missing values\n",
    "missing_values_e = events.isnull().sum()\n",
    "\n",
    "missing_values_e"
   ]
  },
  {
   "cell_type": "markdown",
   "metadata": {},
   "source": [
    "dddd"
   ]
  },
  {
   "cell_type": "code",
   "execution_count": 15,
   "metadata": {},
   "outputs": [
    {
     "data": {
      "text/plain": [
       "Club\n",
       "BSC Young Boys                  327\n",
       "FC St. Gallen 1879              327\n",
       "FC Lugano                       321\n",
       "Grasshopper Club Zurich         320\n",
       "FC Zürich                       306\n",
       "FC Sion                         302\n",
       "FC Winterthur                   300\n",
       "Servette FC                     297\n",
       "FC Basel 1893                   296\n",
       "FC Luzern                       296\n",
       "CF Barcelona                     29\n",
       "Olympique Marseille              28\n",
       "FC Nantes                        27\n",
       "AS Saint-Étienne                 25\n",
       "Sporting Étoile Club Bastia      25\n",
       "Nîmes Olympique                  22\n",
       "OGC Nice                         22\n",
       "FC Girondins Bordeaux            22\n",
       "Paris FC                         20\n",
       "US Valenciennes-Anzin            20\n",
       "AS Nancy-Lorraine                19\n",
       "CS Sedan-Ardennes                18\n",
       "RC Strasbourg Alsace             18\n",
       "Stade Rennais FC                 17\n",
       "Stade Reims                      17\n",
       "Angers SCO                       17\n",
       "Olympique Lyon                   16\n",
       "Red Star FC                      16\n",
       "AC Ajaccio                       15\n",
       "FC Sochaux-Montbéliard           14\n",
       "Inter Under 17                   10\n",
       "FC Metz                          10\n",
       "Bologna Under 17                  9\n",
       "Elche CF                          8\n",
       "Real Zaragoza CD                  5\n",
       "Real Mallorca                     3\n",
       "Valencia CF                       3\n",
       "Real Valladolid Deportivo         3\n",
       "Club Real Murcia                  2\n",
       "Name: count, dtype: int64"
      ]
     },
     "execution_count": 15,
     "metadata": {},
     "output_type": "execute_result"
    }
   ],
   "source": [
    "# look at different values in the 'Club' column\n",
    "events['Club'].value_counts()\n"
   ]
  },
  {
   "cell_type": "code",
   "execution_count": 16,
   "metadata": {},
   "outputs": [
    {
     "data": {
      "text/plain": [
       "Club\n",
       "BSC Young Boys             327\n",
       "FC St. Gallen 1879         327\n",
       "FC Lugano                  321\n",
       "Grasshopper Club Zurich    320\n",
       "FC Zürich                  306\n",
       "FC Sion                    302\n",
       "FC Winterthur              300\n",
       "Servette FC                297\n",
       "FC Basel 1893              296\n",
       "FC Luzern                  296\n",
       "Name: count, dtype: int64"
      ]
     },
     "execution_count": 16,
     "metadata": {},
     "output_type": "execute_result"
    }
   ],
   "source": [
    "# filter the dataset\n",
    "events_SL = events[events['Club'].isin(clubs_to_keep.keys())]\n",
    "\n",
    "events_SL['Club'].value_counts()"
   ]
  },
  {
   "cell_type": "code",
   "execution_count": null,
   "metadata": {},
   "outputs": [],
   "source": []
  }
 ],
 "metadata": {
  "kernelspec": {
   "display_name": "SFCenv",
   "language": "python",
   "name": "python3"
  },
  "language_info": {
   "codemirror_mode": {
    "name": "ipython",
    "version": 3
   },
   "file_extension": ".py",
   "mimetype": "text/x-python",
   "name": "python",
   "nbconvert_exporter": "python",
   "pygments_lexer": "ipython3",
   "version": "3.11.5"
  }
 },
 "nbformat": 4,
 "nbformat_minor": 2
}
