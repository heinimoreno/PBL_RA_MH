{
 "cells": [
  {
   "cell_type": "markdown",
   "metadata": {},
   "source": [
    "# Data Analysis"
   ]
  },
  {
   "cell_type": "markdown",
   "metadata": {},
   "source": []
  },
  {
   "cell_type": "markdown",
   "metadata": {},
   "source": [
    "## 1. Data Loading"
   ]
  },
  {
   "cell_type": "markdown",
   "metadata": {},
   "source": [
    "### 1.1 LineUp Data 2022/23"
   ]
  },
  {
   "cell_type": "markdown",
   "metadata": {},
   "source": [
    "Data Loading\n",
    "- lineups_2022_2023_1.csv\n",
    "- lineups_2022_2023_2.csv"
   ]
  },
  {
   "cell_type": "code",
   "execution_count": 2,
   "metadata": {},
   "outputs": [
    {
     "data": {
      "text/plain": [
       "(      Position               Player  Age Market Value            Club  \\\n",
       " 0   Goalkeeper   David von Ballmoos   27       €2.50m  BSC Young Boys   \n",
       " 1  Centre-Back       Cédric Zesiger   24       €3.20m  BSC Young Boys   \n",
       " 2  Centre-Back  Fabian Lustenberger   34        €400k  BSC Young Boys   \n",
       " 3    Left-Back       Ulisses Garcia   26       €2.00m  BSC Young Boys   \n",
       " 4   Right-Back           Lewin Blum   20        €750k  BSC Young Boys   \n",
       " \n",
       "                                    Gameday   H/A    Status  Match ID  \n",
       " 0  1. Matchday | Sat, 7/16/22   |  6:00 PM  Home  Starting   3840895  \n",
       " 1  1. Matchday | Sat, 7/16/22   |  6:00 PM  Home  Starting   3840895  \n",
       " 2  1. Matchday | Sat, 7/16/22   |  6:00 PM  Home  Starting   3840895  \n",
       " 3  1. Matchday | Sat, 7/16/22   |  6:00 PM  Home  Starting   3840895  \n",
       " 4  1. Matchday | Sat, 7/16/22   |  6:00 PM  Home  Starting   3840895  ,\n",
       "              Position         Player  Age Market Value           Club  \\\n",
       " 0          Goalkeeper    Marwin Hitz   35        €500k  FC Basel 1893   \n",
       " 1         Centre-Back    Kasim Adams   27       €1.30m  FC Basel 1893   \n",
       " 2         Centre-Back   Michael Lang   32        €500k  FC Basel 1893   \n",
       " 3         Centre-Back   Sergio López   24       €1.00m  FC Basel 1893   \n",
       " 4  Defensive Midfield  Wouter Burger   22       €4.00m  FC Basel 1893   \n",
       " \n",
       "                                    Gameday   H/A    Status  Match ID  \n",
       " 0  32. Matchday | Sun, 5/7/23   |  4:30 PM  Home  Starting   3841148  \n",
       " 1  32. Matchday | Sun, 5/7/23   |  4:30 PM  Home  Starting   3841148  \n",
       " 2  32. Matchday | Sun, 5/7/23   |  4:30 PM  Home  Starting   3841148  \n",
       " 3  32. Matchday | Sun, 5/7/23   |  4:30 PM  Home  Starting   3841148  \n",
       " 4  32. Matchday | Sun, 5/7/23   |  4:30 PM  Home  Starting   3841148  )"
      ]
     },
     "execution_count": 2,
     "metadata": {},
     "output_type": "execute_result"
    }
   ],
   "source": [
    "import pandas as pd\n",
    "\n",
    "# Load the datasets\n",
    "lineups_1 = pd.read_csv('./data/lineups_2022_2023_1.csv')\n",
    "lineups_2 = pd.read_csv('./data/lineups_2022_2023_2.csv')\n",
    "\n",
    "lineups_1.head(), lineups_2.head()\n"
   ]
  },
  {
   "cell_type": "code",
   "execution_count": 3,
   "metadata": {},
   "outputs": [
    {
     "data": {
      "text/html": [
       "<div>\n",
       "<style scoped>\n",
       "    .dataframe tbody tr th:only-of-type {\n",
       "        vertical-align: middle;\n",
       "    }\n",
       "\n",
       "    .dataframe tbody tr th {\n",
       "        vertical-align: top;\n",
       "    }\n",
       "\n",
       "    .dataframe thead th {\n",
       "        text-align: right;\n",
       "    }\n",
       "</style>\n",
       "<table border=\"1\" class=\"dataframe\">\n",
       "  <thead>\n",
       "    <tr style=\"text-align: right;\">\n",
       "      <th></th>\n",
       "      <th>Position</th>\n",
       "      <th>Player</th>\n",
       "      <th>Age</th>\n",
       "      <th>Market Value</th>\n",
       "      <th>Club</th>\n",
       "      <th>Gameday</th>\n",
       "      <th>H/A</th>\n",
       "      <th>Status</th>\n",
       "      <th>Match ID</th>\n",
       "    </tr>\n",
       "  </thead>\n",
       "  <tbody>\n",
       "    <tr>\n",
       "      <th>274</th>\n",
       "      <td>Defensive Midfield</td>\n",
       "      <td>Gezim Pepsi</td>\n",
       "      <td>24</td>\n",
       "      <td>€200k</td>\n",
       "      <td>FC Winterthur</td>\n",
       "      <td>2. Matchday | Sat, 7/23/22   |  8:30 PM</td>\n",
       "      <td>Away</td>\n",
       "      <td>Substitute</td>\n",
       "      <td>3840901</td>\n",
       "    </tr>\n",
       "    <tr>\n",
       "      <th>6952</th>\n",
       "      <td>Centre-Forward</td>\n",
       "      <td>Joël Monteiro</td>\n",
       "      <td>23</td>\n",
       "      <td>€700k</td>\n",
       "      <td>BSC Young Boys</td>\n",
       "      <td>28. Matchday | Sun, 4/16/23   |  4:30 PM</td>\n",
       "      <td>Away</td>\n",
       "      <td>Substitute</td>\n",
       "      <td>3841098</td>\n",
       "    </tr>\n",
       "    <tr>\n",
       "      <th>310</th>\n",
       "      <td>Centre-Forward</td>\n",
       "      <td>Chris Bedia</td>\n",
       "      <td>26</td>\n",
       "      <td>€1.10m</td>\n",
       "      <td>Servette FC</td>\n",
       "      <td>2. Matchday | Sun, 7/24/22   |  2:15 PM</td>\n",
       "      <td>Away</td>\n",
       "      <td>Starting</td>\n",
       "      <td>3840902</td>\n",
       "    </tr>\n",
       "    <tr>\n",
       "      <th>873</th>\n",
       "      <td>midfield</td>\n",
       "      <td>Jean-Pierre Giordani</td>\n",
       "      <td>26</td>\n",
       "      <td>NaN</td>\n",
       "      <td>Sporting Étoile Club Bastia</td>\n",
       "      <td>20. Matchday | Sun, 1/7/73   |  8:00 PM</td>\n",
       "      <td>Home</td>\n",
       "      <td>Starting</td>\n",
       "      <td>3841175</td>\n",
       "    </tr>\n",
       "    <tr>\n",
       "      <th>6054</th>\n",
       "      <td>Central Midfield</td>\n",
       "      <td>Lorik Emini</td>\n",
       "      <td>23</td>\n",
       "      <td>€500k</td>\n",
       "      <td>FC Luzern</td>\n",
       "      <td>24. Matchday | Sun, 3/12/23   |  2:15 PM</td>\n",
       "      <td>Away</td>\n",
       "      <td>Substitute</td>\n",
       "      <td>3841071</td>\n",
       "    </tr>\n",
       "  </tbody>\n",
       "</table>\n",
       "</div>"
      ],
      "text/plain": [
       "                Position                Player  Age Market Value  \\\n",
       "274   Defensive Midfield           Gezim Pepsi   24        €200k   \n",
       "6952      Centre-Forward         Joël Monteiro   23        €700k   \n",
       "310       Centre-Forward           Chris Bedia   26       €1.10m   \n",
       "873             midfield  Jean-Pierre Giordani   26          NaN   \n",
       "6054    Central Midfield           Lorik Emini   23        €500k   \n",
       "\n",
       "                              Club                                   Gameday  \\\n",
       "274                  FC Winterthur   2. Matchday | Sat, 7/23/22   |  8:30 PM   \n",
       "6952                BSC Young Boys  28. Matchday | Sun, 4/16/23   |  4:30 PM   \n",
       "310                    Servette FC   2. Matchday | Sun, 7/24/22   |  2:15 PM   \n",
       "873   Sporting Étoile Club Bastia    20. Matchday | Sun, 1/7/73   |  8:00 PM   \n",
       "6054                     FC Luzern  24. Matchday | Sun, 3/12/23   |  2:15 PM   \n",
       "\n",
       "       H/A      Status  Match ID  \n",
       "274   Away  Substitute   3840901  \n",
       "6952  Away  Substitute   3841098  \n",
       "310   Away    Starting   3840902  \n",
       "873   Home    Starting   3841175  \n",
       "6054  Away  Substitute   3841071  "
      ]
     },
     "execution_count": 3,
     "metadata": {},
     "output_type": "execute_result"
    }
   ],
   "source": [
    "# Concatenate the datasets\n",
    "lineups = pd.concat([lineups_1, lineups_2], axis=0)\n",
    "\n",
    "# safe as csv in the data folder\n",
    "lineups.to_csv('./data/lineups_2022_2023_merged.csv', index=False)\n",
    "\n",
    "lineups.sample(5)"
   ]
  },
  {
   "cell_type": "markdown",
   "metadata": {},
   "source": [
    "Check N/A's"
   ]
  },
  {
   "cell_type": "code",
   "execution_count": 4,
   "metadata": {},
   "outputs": [
    {
     "data": {
      "text/plain": [
       "Position           0\n",
       "Player             0\n",
       "Age                0\n",
       "Market Value    2779\n",
       "Club               0\n",
       "Gameday            0\n",
       "H/A                0\n",
       "Status             0\n",
       "Match ID           0\n",
       "dtype: int64"
      ]
     },
     "execution_count": 4,
     "metadata": {},
     "output_type": "execute_result"
    }
   ],
   "source": [
    "# check for missing values\n",
    "missing_values = lineups.isnull().sum()\n",
    "\n",
    "missing_values"
   ]
  },
  {
   "cell_type": "markdown",
   "metadata": {},
   "source": [
    "For the LineUp of each match in season 2022/2023 wo only have missing values in the column `Market Value`, which is not further suprising"
   ]
  },
  {
   "cell_type": "code",
   "execution_count": 5,
   "metadata": {},
   "outputs": [
    {
     "data": {
      "text/plain": [
       "Club\n",
       "FC St. Gallen 1879              718\n",
       "FC Basel 1893                   717\n",
       "Servette FC                     717\n",
       "BSC Young Boys                  716\n",
       "FC Zürich                       716\n",
       "FC Sion                         716\n",
       "FC Winterthur                   713\n",
       "Grasshopper Club Zurich         712\n",
       "FC Luzern                       711\n",
       "FC Lugano                       697\n",
       "CF Barcelona                    176\n",
       "Nîmes Olympique                 118\n",
       "FC Girondins Bordeaux           117\n",
       "Angers SCO                      117\n",
       "Red Star FC                     117\n",
       "AC Ajaccio                      116\n",
       "Stade Rennais FC                116\n",
       "Olympique Marseille             116\n",
       "FC Sochaux-Montbéliard          116\n",
       "Sporting Étoile Club Bastia     116\n",
       "Paris FC                        116\n",
       "AS Saint-Étienne                115\n",
       "US Valenciennes-Anzin           115\n",
       "CS Sedan-Ardennes               115\n",
       "FC Nantes                       114\n",
       "RC Strasbourg Alsace            114\n",
       "Stade Reims                     113\n",
       "FC Metz                         113\n",
       "OGC Nice                        112\n",
       "AS Nancy-Lorraine               111\n",
       "Olympique Lyon                  110\n",
       "Elche CF                         52\n",
       "Real Zaragoza CD                 33\n",
       "Valencia CF                      33\n",
       "Real Mallorca                    21\n",
       "Real Valladolid Deportivo        21\n",
       "Inter Under 17                   20\n",
       "Bologna Under 17                 20\n",
       "Club Real Murcia                 20\n",
       "Athletic Bilbao                  11\n",
       "Name: count, dtype: int64"
      ]
     },
     "execution_count": 5,
     "metadata": {},
     "output_type": "execute_result"
    }
   ],
   "source": [
    "# look at different values in the 'Club' column\n",
    "lineups['Club'].value_counts()"
   ]
  },
  {
   "cell_type": "markdown",
   "metadata": {},
   "source": [
    "In order to only have a look at Swiss Clubs for a first step, we need to filter them."
   ]
  },
  {
   "cell_type": "code",
   "execution_count": 6,
   "metadata": {},
   "outputs": [
    {
     "name": "stdout",
     "output_type": "stream",
     "text": [
      "Club\n",
      "FC St. Gallen 1879         718\n",
      "FC Basel 1893              717\n",
      "Servette FC                717\n",
      "BSC Young Boys             716\n",
      "FC Zürich                  716\n",
      "FC Sion                    716\n",
      "FC Winterthur              713\n",
      "Grasshopper Club Zurich    712\n",
      "FC Luzern                  711\n",
      "FC Lugano                  697\n",
      "Name: count, dtype: int64\n",
      "**************************************************\n",
      "Max. Players on LineUp Sheet per Match: 20\n",
      "Max. Players on LineUp Sheet per Season: 20 * 36 = 720\n"
     ]
    }
   ],
   "source": [
    "# dictionary for values in 'Clubs' we want to keep\n",
    "clubs_to_keep = {\n",
    "    'FC St. Gallen 1879': 'FC St. Gallen 1879',\n",
    "    'FC Basel 1893': 'FC Basel 1893',\n",
    "    'Servette FC': 'Servette FC',\n",
    "    'BSC Young Boys': 'BSC Young Boys',\n",
    "    'FC Zürich': 'FC Zürich',\n",
    "    'FC Sion': 'FC Sion',\n",
    "    'FC Winterthur': 'FC Winterthur',\n",
    "    'Grasshopper Club Zurich': 'Grasshopper Club Zurich',\n",
    "    'FC Luzern': 'FC Luzern',\n",
    "    'FC Lugano': 'FC Lugano'\n",
    "}\n",
    "\n",
    "# filter the dataset\n",
    "lineups_SL = lineups[lineups['Club'].isin(clubs_to_keep.keys())]\n",
    "\n",
    "print(lineups_SL['Club'].value_counts())\n",
    "print(\"*\"*50)\n",
    "print(\"Max. Players on LineUp Sheet per Match: 20\")\n",
    "print(\"Max. Players on LineUp Sheet per Season: 20 * 36 = 720\")"
   ]
  },
  {
   "cell_type": "markdown",
   "metadata": {},
   "source": [
    "Suprisingly, Lugano has a low number of player in the lineups of that season. After a quick look at the data, it is shown that in 17 of the 36 (i.e. ~50%!) matches Lugano had less than the maximum of 20 players on the match lineup."
   ]
  },
  {
   "cell_type": "code",
   "execution_count": 7,
   "metadata": {},
   "outputs": [
    {
     "data": {
      "text/html": [
       "<div>\n",
       "<style scoped>\n",
       "    .dataframe tbody tr th:only-of-type {\n",
       "        vertical-align: middle;\n",
       "    }\n",
       "\n",
       "    .dataframe tbody tr th {\n",
       "        vertical-align: top;\n",
       "    }\n",
       "\n",
       "    .dataframe thead th {\n",
       "        text-align: right;\n",
       "    }\n",
       "</style>\n",
       "<table border=\"1\" class=\"dataframe\">\n",
       "  <thead>\n",
       "    <tr style=\"text-align: right;\">\n",
       "      <th></th>\n",
       "      <th>Position</th>\n",
       "      <th>Player</th>\n",
       "      <th>Age</th>\n",
       "      <th>Market Value</th>\n",
       "      <th>Club</th>\n",
       "      <th>Gameday</th>\n",
       "      <th>H/A</th>\n",
       "      <th>Status</th>\n",
       "      <th>Match ID</th>\n",
       "    </tr>\n",
       "  </thead>\n",
       "  <tbody>\n",
       "    <tr>\n",
       "      <th>3463</th>\n",
       "      <td>Centre-Forward</td>\n",
       "      <td>Giovanni Sio</td>\n",
       "      <td>33</td>\n",
       "      <td>€300k</td>\n",
       "      <td>FC Sion</td>\n",
       "      <td>15. Matchday | Sun, 11/6/22   |  4:30 PM</td>\n",
       "      <td>Away</td>\n",
       "      <td>Substitute</td>\n",
       "      <td>3840993</td>\n",
       "    </tr>\n",
       "    <tr>\n",
       "      <th>6236</th>\n",
       "      <td>Centre-Back</td>\n",
       "      <td>Riccardo Calafiori</td>\n",
       "      <td>20</td>\n",
       "      <td>€3.50m</td>\n",
       "      <td>FC Basel 1893</td>\n",
       "      <td>25. Matchday | Sun, 3/19/23   |  4:30 PM</td>\n",
       "      <td>Away</td>\n",
       "      <td>Starting</td>\n",
       "      <td>3841076</td>\n",
       "    </tr>\n",
       "    <tr>\n",
       "      <th>1513</th>\n",
       "      <td>Left-Back</td>\n",
       "      <td>Noah Katterbach</td>\n",
       "      <td>21</td>\n",
       "      <td>€1.70m</td>\n",
       "      <td>FC Basel 1893</td>\n",
       "      <td>8. Matchday | Sun, 9/11/22   |  4:30 PM</td>\n",
       "      <td>Home</td>\n",
       "      <td>Starting</td>\n",
       "      <td>3840933</td>\n",
       "    </tr>\n",
       "    <tr>\n",
       "      <th>3720</th>\n",
       "      <td>Centre-Forward</td>\n",
       "      <td>Boris Babic</td>\n",
       "      <td>25</td>\n",
       "      <td>€400k</td>\n",
       "      <td>FC Lugano</td>\n",
       "      <td>16. Matchday | Sun, 11/13/22   |  4:30 PM</td>\n",
       "      <td>Home</td>\n",
       "      <td>Substitute</td>\n",
       "      <td>3841000</td>\n",
       "    </tr>\n",
       "    <tr>\n",
       "      <th>2697</th>\n",
       "      <td>Left-Back</td>\n",
       "      <td>Reto Ziegler</td>\n",
       "      <td>36</td>\n",
       "      <td>€100k</td>\n",
       "      <td>FC Lugano</td>\n",
       "      <td>12. Matchday | Wed, 10/19/22   |  8:30 PM</td>\n",
       "      <td>Home</td>\n",
       "      <td>Starting</td>\n",
       "      <td>3840970</td>\n",
       "    </tr>\n",
       "    <tr>\n",
       "      <th>801</th>\n",
       "      <td>Goalkeeper</td>\n",
       "      <td>André Moreira</td>\n",
       "      <td>27</td>\n",
       "      <td>€1.20m</td>\n",
       "      <td>Grasshopper Club Zurich</td>\n",
       "      <td>34. Matchday | Sun, 5/21/23   |  4:30 PM</td>\n",
       "      <td>Away</td>\n",
       "      <td>Starting</td>\n",
       "      <td>3841172</td>\n",
       "    </tr>\n",
       "    <tr>\n",
       "      <th>3641</th>\n",
       "      <td>Centre-Forward</td>\n",
       "      <td>Sang-bin Jeong</td>\n",
       "      <td>20</td>\n",
       "      <td>€850k</td>\n",
       "      <td>Grasshopper Club Zurich</td>\n",
       "      <td>16. Matchday | Sat, 11/12/22   |  8:30 PM</td>\n",
       "      <td>Home</td>\n",
       "      <td>Substitute</td>\n",
       "      <td>3840998</td>\n",
       "    </tr>\n",
       "    <tr>\n",
       "      <th>5624</th>\n",
       "      <td>Centre-Back</td>\n",
       "      <td>Dimitri Cavaré</td>\n",
       "      <td>28</td>\n",
       "      <td>€700k</td>\n",
       "      <td>FC Sion</td>\n",
       "      <td>22. Matchday | Sat, 2/25/23   |  6:00 PM</td>\n",
       "      <td>Home</td>\n",
       "      <td>Starting</td>\n",
       "      <td>3841061</td>\n",
       "    </tr>\n",
       "    <tr>\n",
       "      <th>6105</th>\n",
       "      <td>Right Midfield</td>\n",
       "      <td>Roman Macek</td>\n",
       "      <td>25</td>\n",
       "      <td>€300k</td>\n",
       "      <td>FC Lugano</td>\n",
       "      <td>25. Matchday | Sun, 3/19/23   |  4:30 PM</td>\n",
       "      <td>Home</td>\n",
       "      <td>Starting</td>\n",
       "      <td>3841073</td>\n",
       "    </tr>\n",
       "    <tr>\n",
       "      <th>5041</th>\n",
       "      <td>Centre-Forward</td>\n",
       "      <td>Willem Geubbels</td>\n",
       "      <td>21</td>\n",
       "      <td>€2.50m</td>\n",
       "      <td>FC St. Gallen 1879</td>\n",
       "      <td>20. Matchday | Sun, 2/12/23   |  4:30 PM</td>\n",
       "      <td>Away</td>\n",
       "      <td>Substitute</td>\n",
       "      <td>3841041</td>\n",
       "    </tr>\n",
       "  </tbody>\n",
       "</table>\n",
       "</div>"
      ],
      "text/plain": [
       "            Position              Player  Age Market Value  \\\n",
       "3463  Centre-Forward        Giovanni Sio   33        €300k   \n",
       "6236     Centre-Back  Riccardo Calafiori   20       €3.50m   \n",
       "1513       Left-Back     Noah Katterbach   21       €1.70m   \n",
       "3720  Centre-Forward         Boris Babic   25        €400k   \n",
       "2697       Left-Back        Reto Ziegler   36        €100k   \n",
       "801       Goalkeeper       André Moreira   27       €1.20m   \n",
       "3641  Centre-Forward      Sang-bin Jeong   20        €850k   \n",
       "5624     Centre-Back      Dimitri Cavaré   28        €700k   \n",
       "6105  Right Midfield         Roman Macek   25        €300k   \n",
       "5041  Centre-Forward     Willem Geubbels   21       €2.50m   \n",
       "\n",
       "                         Club                                    Gameday  \\\n",
       "3463                  FC Sion   15. Matchday | Sun, 11/6/22   |  4:30 PM   \n",
       "6236            FC Basel 1893   25. Matchday | Sun, 3/19/23   |  4:30 PM   \n",
       "1513            FC Basel 1893    8. Matchday | Sun, 9/11/22   |  4:30 PM   \n",
       "3720                FC Lugano  16. Matchday | Sun, 11/13/22   |  4:30 PM   \n",
       "2697                FC Lugano  12. Matchday | Wed, 10/19/22   |  8:30 PM   \n",
       "801   Grasshopper Club Zurich   34. Matchday | Sun, 5/21/23   |  4:30 PM   \n",
       "3641  Grasshopper Club Zurich  16. Matchday | Sat, 11/12/22   |  8:30 PM   \n",
       "5624                  FC Sion   22. Matchday | Sat, 2/25/23   |  6:00 PM   \n",
       "6105                FC Lugano   25. Matchday | Sun, 3/19/23   |  4:30 PM   \n",
       "5041       FC St. Gallen 1879   20. Matchday | Sun, 2/12/23   |  4:30 PM   \n",
       "\n",
       "       H/A      Status  Match ID  \n",
       "3463  Away  Substitute   3840993  \n",
       "6236  Away    Starting   3841076  \n",
       "1513  Home    Starting   3840933  \n",
       "3720  Home  Substitute   3841000  \n",
       "2697  Home    Starting   3840970  \n",
       "801   Away    Starting   3841172  \n",
       "3641  Home  Substitute   3840998  \n",
       "5624  Home    Starting   3841061  \n",
       "6105  Home    Starting   3841073  \n",
       "5041  Away  Substitute   3841041  "
      ]
     },
     "execution_count": 7,
     "metadata": {},
     "output_type": "execute_result"
    }
   ],
   "source": [
    "lineups_SL.sample(10)"
   ]
  },
  {
   "cell_type": "code",
   "execution_count": 57,
   "metadata": {},
   "outputs": [],
   "source": [
    "# safe as csv in the data folder\n",
    "#lineups_SL.to_csv('./data/lineups_2022_2023_SL.csv', index=False)"
   ]
  },
  {
   "cell_type": "markdown",
   "metadata": {},
   "source": [
    "### 1.2 Match Event Data 2022/23"
   ]
  },
  {
   "cell_type": "markdown",
   "metadata": {},
   "source": [
    "Data Loading\n",
    "- match_events_2022_2023_1.csv\n",
    "- match_events_2022_2023_2.csv"
   ]
  },
  {
   "cell_type": "code",
   "execution_count": 8,
   "metadata": {},
   "outputs": [],
   "source": [
    "## TODO plausibilitätsprüfung"
   ]
  },
  {
   "cell_type": "code",
   "execution_count": 9,
   "metadata": {},
   "outputs": [
    {
     "data": {
      "text/plain": [
       "(             Club   H/A Timestamp         Event         Player Event  \\\n",
       " 0  BSC Young Boys  Home       62'          Goal  Christian Fassnacht   \n",
       " 1  BSC Young Boys  Home       77'          Goal         Cedric Itten   \n",
       " 2  BSC Young Boys  Home       81'          Goal        Fabian Rieder   \n",
       " 3  BSC Young Boys  Home       85'          Goal       Wilfried Kanga   \n",
       " 4  BSC Young Boys  Home       63'  Substitution         Cedric Itten   \n",
       " \n",
       "         Remark Event        Player Assist     Player Out  Match ID  \n",
       " 0             Header       Ulisses Garcia            NaN   3840895  \n",
       " 1  Right-footed shot        Cheikh Niasse            NaN   3840895  \n",
       " 2             Header       Wilfried Kanga            NaN   3840895  \n",
       " 3  Right-footed shot  Christian Fassnacht            NaN   3840895  \n",
       " 4           Tactical                  NaN  Meschack Elia   3840895  ,\n",
       "             Club   H/A Timestamp         Event         Player Event  \\\n",
       " 0      FC Zürich  Away       90'          Goal           Roko Simic   \n",
       " 1      FC Zürich  Away       90'          Goal       Ifeanyi Mathew   \n",
       " 2  FC Basel 1893  Home       45'  Substitution  Jean-Kévin Augustin   \n",
       " 3      FC Zürich  Away       54'  Substitution     Bledian Krasniqi   \n",
       " 4  FC Basel 1893  Home       71'  Substitution         Bradley Fink   \n",
       " \n",
       "        Remark Event       Player Assist    Player Out  Match ID  \n",
       " 0           Penalty                 NaN           NaN   3841148  \n",
       " 1  Left-footed shot  Antonio Marchesano           NaN   3841148  \n",
       " 2            Injury                 NaN  Sergio López   3841148  \n",
       " 3          Tactical                 NaN  Junior Ligue   3841148  \n",
       " 4          Tactical                 NaN   Andi Zeqiri   3841148  )"
      ]
     },
     "execution_count": 9,
     "metadata": {},
     "output_type": "execute_result"
    }
   ],
   "source": [
    "# Load the datasets\n",
    "events_1 = pd.read_csv('./data/match_events_2022_2023_1.csv')\n",
    "events_2 = pd.read_csv('./data/match_events_2022_2023_2.csv')\n",
    "\n",
    "events_1.head(), events_2.head()"
   ]
  },
  {
   "cell_type": "code",
   "execution_count": 10,
   "metadata": {},
   "outputs": [
    {
     "data": {
      "text/html": [
       "<div>\n",
       "<style scoped>\n",
       "    .dataframe tbody tr th:only-of-type {\n",
       "        vertical-align: middle;\n",
       "    }\n",
       "\n",
       "    .dataframe tbody tr th {\n",
       "        vertical-align: top;\n",
       "    }\n",
       "\n",
       "    .dataframe thead th {\n",
       "        text-align: right;\n",
       "    }\n",
       "</style>\n",
       "<table border=\"1\" class=\"dataframe\">\n",
       "  <thead>\n",
       "    <tr style=\"text-align: right;\">\n",
       "      <th></th>\n",
       "      <th>Club</th>\n",
       "      <th>H/A</th>\n",
       "      <th>Timestamp</th>\n",
       "      <th>Event</th>\n",
       "      <th>Player Event</th>\n",
       "      <th>Remark Event</th>\n",
       "      <th>Player Assist</th>\n",
       "      <th>Player Out</th>\n",
       "      <th>Match ID</th>\n",
       "    </tr>\n",
       "  </thead>\n",
       "  <tbody>\n",
       "    <tr>\n",
       "      <th>1385</th>\n",
       "      <td>BSC Young Boys</td>\n",
       "      <td>Away</td>\n",
       "      <td>64'</td>\n",
       "      <td>Substitution</td>\n",
       "      <td>Anthony Racioppi</td>\n",
       "      <td>Injury</td>\n",
       "      <td>NaN</td>\n",
       "      <td>David von Ballmoos</td>\n",
       "      <td>3840996</td>\n",
       "    </tr>\n",
       "    <tr>\n",
       "      <th>427</th>\n",
       "      <td>FC Luzern</td>\n",
       "      <td>Home</td>\n",
       "      <td>42'</td>\n",
       "      <td>Yellow-Red Card</td>\n",
       "      <td>Martin Frydek</td>\n",
       "      <td>Foul</td>\n",
       "      <td>NaN</td>\n",
       "      <td>NaN</td>\n",
       "      <td>3840920</td>\n",
       "    </tr>\n",
       "    <tr>\n",
       "      <th>884</th>\n",
       "      <td>FC Luzern</td>\n",
       "      <td>Away</td>\n",
       "      <td>70'</td>\n",
       "      <td>Substitution</td>\n",
       "      <td>Jakub Kadák</td>\n",
       "      <td>Tactical</td>\n",
       "      <td>NaN</td>\n",
       "      <td>Nicky Beloko</td>\n",
       "      <td>3840959</td>\n",
       "    </tr>\n",
       "    <tr>\n",
       "      <th>2320</th>\n",
       "      <td>FC Basel 1893</td>\n",
       "      <td>Away</td>\n",
       "      <td>81'</td>\n",
       "      <td>Substitution</td>\n",
       "      <td>Anton Kade</td>\n",
       "      <td>Tactical</td>\n",
       "      <td>NaN</td>\n",
       "      <td>Dan Ndoye</td>\n",
       "      <td>3841076</td>\n",
       "    </tr>\n",
       "    <tr>\n",
       "      <th>2314</th>\n",
       "      <td>FC Basel 1893</td>\n",
       "      <td>Away</td>\n",
       "      <td>14'</td>\n",
       "      <td>Substitution</td>\n",
       "      <td>Bradley Fink</td>\n",
       "      <td>Injury</td>\n",
       "      <td>NaN</td>\n",
       "      <td>Andi Zeqiri</td>\n",
       "      <td>3841076</td>\n",
       "    </tr>\n",
       "  </tbody>\n",
       "</table>\n",
       "</div>"
      ],
      "text/plain": [
       "                Club   H/A Timestamp            Event      Player Event  \\\n",
       "1385  BSC Young Boys  Away       64'     Substitution  Anthony Racioppi   \n",
       "427        FC Luzern  Home       42'  Yellow-Red Card     Martin Frydek   \n",
       "884        FC Luzern  Away       70'     Substitution       Jakub Kadák   \n",
       "2320   FC Basel 1893  Away       81'     Substitution        Anton Kade   \n",
       "2314   FC Basel 1893  Away       14'     Substitution      Bradley Fink   \n",
       "\n",
       "     Remark Event Player Assist          Player Out  Match ID  \n",
       "1385       Injury           NaN  David von Ballmoos   3840996  \n",
       "427          Foul           NaN                 NaN   3840920  \n",
       "884      Tactical           NaN        Nicky Beloko   3840959  \n",
       "2320     Tactical           NaN           Dan Ndoye   3841076  \n",
       "2314       Injury           NaN         Andi Zeqiri   3841076  "
      ]
     },
     "execution_count": 10,
     "metadata": {},
     "output_type": "execute_result"
    }
   ],
   "source": [
    "# Concatenate the datasets\n",
    "events = pd.concat([events_1, events_2], axis=0)\n",
    "\n",
    "# safe as csv in the data folder\n",
    "events.to_csv('./data/match_events_2022_2023_merged.csv', index=False)\n",
    "\n",
    "events.sample(5)"
   ]
  },
  {
   "cell_type": "markdown",
   "metadata": {},
   "source": [
    "Check N/A's"
   ]
  },
  {
   "cell_type": "code",
   "execution_count": 11,
   "metadata": {},
   "outputs": [
    {
     "data": {
      "text/plain": [
       "Club                0\n",
       "H/A                 0\n",
       "Timestamp           0\n",
       "Event               0\n",
       "Player Event        1\n",
       "Remark Event        0\n",
       "Player Assist    3110\n",
       "Player Out       1836\n",
       "Match ID            0\n",
       "dtype: int64"
      ]
     },
     "execution_count": 11,
     "metadata": {},
     "output_type": "execute_result"
    }
   ],
   "source": [
    "# check for missing values\n",
    "missing_values_e = events.isnull().sum()\n",
    "\n",
    "missing_values_e"
   ]
  },
  {
   "cell_type": "code",
   "execution_count": 12,
   "metadata": {},
   "outputs": [
    {
     "data": {
      "text/html": [
       "<div>\n",
       "<style scoped>\n",
       "    .dataframe tbody tr th:only-of-type {\n",
       "        vertical-align: middle;\n",
       "    }\n",
       "\n",
       "    .dataframe tbody tr th {\n",
       "        vertical-align: top;\n",
       "    }\n",
       "\n",
       "    .dataframe thead th {\n",
       "        text-align: right;\n",
       "    }\n",
       "</style>\n",
       "<table border=\"1\" class=\"dataframe\">\n",
       "  <thead>\n",
       "    <tr style=\"text-align: right;\">\n",
       "      <th></th>\n",
       "      <th>Club</th>\n",
       "      <th>H/A</th>\n",
       "      <th>Timestamp</th>\n",
       "      <th>Event</th>\n",
       "      <th>Player Event</th>\n",
       "      <th>Remark Event</th>\n",
       "      <th>Player Assist</th>\n",
       "      <th>Player Out</th>\n",
       "      <th>Match ID</th>\n",
       "    </tr>\n",
       "  </thead>\n",
       "  <tbody>\n",
       "    <tr>\n",
       "      <th>1320</th>\n",
       "      <td>Elche CF</td>\n",
       "      <td>Home</td>\n",
       "      <td>54'</td>\n",
       "      <td>Substitution</td>\n",
       "      <td>NaN</td>\n",
       "      <td>Injury</td>\n",
       "      <td>NaN</td>\n",
       "      <td>Chancho</td>\n",
       "      <td>3840990</td>\n",
       "    </tr>\n",
       "  </tbody>\n",
       "</table>\n",
       "</div>"
      ],
      "text/plain": [
       "          Club   H/A Timestamp         Event Player Event Remark Event  \\\n",
       "1320  Elche CF  Home       54'  Substitution          NaN       Injury   \n",
       "\n",
       "     Player Assist Player Out  Match ID  \n",
       "1320           NaN    Chancho   3840990  "
      ]
     },
     "execution_count": 12,
     "metadata": {},
     "output_type": "execute_result"
    }
   ],
   "source": [
    "# show record with missing value in 'Player Event' column\n",
    "events[events['Player Event'].isnull()]"
   ]
  },
  {
   "cell_type": "markdown",
   "metadata": {},
   "source": [
    "The only record with a missing value regarding the Player Event can be ignored since we only focus on the Swiss Teams."
   ]
  },
  {
   "cell_type": "code",
   "execution_count": 13,
   "metadata": {},
   "outputs": [
    {
     "data": {
      "text/plain": [
       "Club\n",
       "BSC Young Boys                  327\n",
       "FC St. Gallen 1879              327\n",
       "FC Lugano                       321\n",
       "Grasshopper Club Zurich         320\n",
       "FC Zürich                       306\n",
       "FC Sion                         302\n",
       "FC Winterthur                   300\n",
       "Servette FC                     297\n",
       "FC Basel 1893                   296\n",
       "FC Luzern                       296\n",
       "CF Barcelona                     29\n",
       "Olympique Marseille              28\n",
       "FC Nantes                        27\n",
       "AS Saint-Étienne                 25\n",
       "Sporting Étoile Club Bastia      25\n",
       "Nîmes Olympique                  22\n",
       "OGC Nice                         22\n",
       "FC Girondins Bordeaux            22\n",
       "Paris FC                         20\n",
       "US Valenciennes-Anzin            20\n",
       "AS Nancy-Lorraine                19\n",
       "CS Sedan-Ardennes                18\n",
       "RC Strasbourg Alsace             18\n",
       "Stade Rennais FC                 17\n",
       "Stade Reims                      17\n",
       "Angers SCO                       17\n",
       "Olympique Lyon                   16\n",
       "Red Star FC                      16\n",
       "AC Ajaccio                       15\n",
       "FC Sochaux-Montbéliard           14\n",
       "Inter Under 17                   10\n",
       "FC Metz                          10\n",
       "Bologna Under 17                  9\n",
       "Elche CF                          8\n",
       "Real Zaragoza CD                  5\n",
       "Real Mallorca                     3\n",
       "Valencia CF                       3\n",
       "Real Valladolid Deportivo         3\n",
       "Club Real Murcia                  2\n",
       "Name: count, dtype: int64"
      ]
     },
     "execution_count": 13,
     "metadata": {},
     "output_type": "execute_result"
    }
   ],
   "source": [
    "# look at different values in the 'Club' column\n",
    "events['Club'].value_counts()\n"
   ]
  },
  {
   "cell_type": "code",
   "execution_count": 14,
   "metadata": {},
   "outputs": [
    {
     "data": {
      "text/plain": [
       "Club\n",
       "BSC Young Boys             327\n",
       "FC St. Gallen 1879         327\n",
       "FC Lugano                  321\n",
       "Grasshopper Club Zurich    320\n",
       "FC Zürich                  306\n",
       "FC Sion                    302\n",
       "FC Winterthur              300\n",
       "Servette FC                297\n",
       "FC Basel 1893              296\n",
       "FC Luzern                  296\n",
       "Name: count, dtype: int64"
      ]
     },
     "execution_count": 14,
     "metadata": {},
     "output_type": "execute_result"
    }
   ],
   "source": [
    "# filter the dataset\n",
    "events_SL = events[events['Club'].isin(clubs_to_keep.keys())]\n",
    "\n",
    "events_SL['Club'].value_counts()"
   ]
  },
  {
   "cell_type": "code",
   "execution_count": 15,
   "metadata": {},
   "outputs": [
    {
     "data": {
      "text/html": [
       "<div>\n",
       "<style scoped>\n",
       "    .dataframe tbody tr th:only-of-type {\n",
       "        vertical-align: middle;\n",
       "    }\n",
       "\n",
       "    .dataframe tbody tr th {\n",
       "        vertical-align: top;\n",
       "    }\n",
       "\n",
       "    .dataframe thead th {\n",
       "        text-align: right;\n",
       "    }\n",
       "</style>\n",
       "<table border=\"1\" class=\"dataframe\">\n",
       "  <thead>\n",
       "    <tr style=\"text-align: right;\">\n",
       "      <th></th>\n",
       "      <th>Club</th>\n",
       "      <th>H/A</th>\n",
       "      <th>Timestamp</th>\n",
       "      <th>Event</th>\n",
       "      <th>Player Event</th>\n",
       "      <th>Remark Event</th>\n",
       "      <th>Player Assist</th>\n",
       "      <th>Player Out</th>\n",
       "      <th>Match ID</th>\n",
       "    </tr>\n",
       "  </thead>\n",
       "  <tbody>\n",
       "    <tr>\n",
       "      <th>1478</th>\n",
       "      <td>FC Luzern</td>\n",
       "      <td>Away</td>\n",
       "      <td>46'</td>\n",
       "      <td>Substitution</td>\n",
       "      <td>Pascal Schürpf</td>\n",
       "      <td>Tactical</td>\n",
       "      <td>NaN</td>\n",
       "      <td>Asumah Abubakar</td>\n",
       "      <td>3841001</td>\n",
       "    </tr>\n",
       "    <tr>\n",
       "      <th>1253</th>\n",
       "      <td>FC Sion</td>\n",
       "      <td>Home</td>\n",
       "      <td>90'</td>\n",
       "      <td>Yellow Card</td>\n",
       "      <td>Gaëtan Karlen</td>\n",
       "      <td>Foul</td>\n",
       "      <td>NaN</td>\n",
       "      <td>NaN</td>\n",
       "      <td>3840980</td>\n",
       "    </tr>\n",
       "    <tr>\n",
       "      <th>522</th>\n",
       "      <td>FC Sion</td>\n",
       "      <td>Home</td>\n",
       "      <td>79'</td>\n",
       "      <td>Substitution</td>\n",
       "      <td>Giovanni Sio</td>\n",
       "      <td>Tactical</td>\n",
       "      <td>NaN</td>\n",
       "      <td>Itaitinga</td>\n",
       "      <td>3840925</td>\n",
       "    </tr>\n",
       "    <tr>\n",
       "      <th>643</th>\n",
       "      <td>FC Luzern</td>\n",
       "      <td>Away</td>\n",
       "      <td>85'</td>\n",
       "      <td>Goal</td>\n",
       "      <td>Christian Gentner</td>\n",
       "      <td>Right-footed shot</td>\n",
       "      <td>Sofyan Chader</td>\n",
       "      <td>NaN</td>\n",
       "      <td>3840932</td>\n",
       "    </tr>\n",
       "    <tr>\n",
       "      <th>2259</th>\n",
       "      <td>BSC Young Boys</td>\n",
       "      <td>Home</td>\n",
       "      <td>49'</td>\n",
       "      <td>Yellow Card</td>\n",
       "      <td>Lewin Blum</td>\n",
       "      <td>Foul</td>\n",
       "      <td>NaN</td>\n",
       "      <td>NaN</td>\n",
       "      <td>3841072</td>\n",
       "    </tr>\n",
       "    <tr>\n",
       "      <th>321</th>\n",
       "      <td>FC Lugano</td>\n",
       "      <td>Home</td>\n",
       "      <td>62'</td>\n",
       "      <td>Substitution</td>\n",
       "      <td>Mohamed Amoura</td>\n",
       "      <td>Tactical</td>\n",
       "      <td>NaN</td>\n",
       "      <td>Zan Celar</td>\n",
       "      <td>3840914</td>\n",
       "    </tr>\n",
       "    <tr>\n",
       "      <th>70</th>\n",
       "      <td>Grasshopper Club Zurich</td>\n",
       "      <td>Away</td>\n",
       "      <td>60'</td>\n",
       "      <td>Substitution</td>\n",
       "      <td>Christian Herc</td>\n",
       "      <td>Tactical</td>\n",
       "      <td>NaN</td>\n",
       "      <td>Amir Abrashi</td>\n",
       "      <td>3840899</td>\n",
       "    </tr>\n",
       "    <tr>\n",
       "      <th>521</th>\n",
       "      <td>FC Basel 1893</td>\n",
       "      <td>Away</td>\n",
       "      <td>79'</td>\n",
       "      <td>Substitution</td>\n",
       "      <td>Jean-Kévin Augustin</td>\n",
       "      <td>Tactical</td>\n",
       "      <td>NaN</td>\n",
       "      <td>Wouter Burger</td>\n",
       "      <td>3840925</td>\n",
       "    </tr>\n",
       "    <tr>\n",
       "      <th>141</th>\n",
       "      <td>FC Luzern</td>\n",
       "      <td>Away</td>\n",
       "      <td>81'</td>\n",
       "      <td>Substitution</td>\n",
       "      <td>Mihailo Stevanovic</td>\n",
       "      <td>Tactical</td>\n",
       "      <td>NaN</td>\n",
       "      <td>Nicky Beloko</td>\n",
       "      <td>3841163</td>\n",
       "    </tr>\n",
       "    <tr>\n",
       "      <th>1831</th>\n",
       "      <td>FC Basel 1893</td>\n",
       "      <td>Home</td>\n",
       "      <td>90'</td>\n",
       "      <td>Substitution</td>\n",
       "      <td>Kaly Sène</td>\n",
       "      <td>Delay</td>\n",
       "      <td>NaN</td>\n",
       "      <td>Zeki Amdouni</td>\n",
       "      <td>3841038</td>\n",
       "    </tr>\n",
       "  </tbody>\n",
       "</table>\n",
       "</div>"
      ],
      "text/plain": [
       "                         Club   H/A Timestamp         Event  \\\n",
       "1478                FC Luzern  Away       46'  Substitution   \n",
       "1253                  FC Sion  Home       90'   Yellow Card   \n",
       "522                   FC Sion  Home       79'  Substitution   \n",
       "643                 FC Luzern  Away       85'          Goal   \n",
       "2259           BSC Young Boys  Home       49'   Yellow Card   \n",
       "321                 FC Lugano  Home       62'  Substitution   \n",
       "70    Grasshopper Club Zurich  Away       60'  Substitution   \n",
       "521             FC Basel 1893  Away       79'  Substitution   \n",
       "141                 FC Luzern  Away       81'  Substitution   \n",
       "1831            FC Basel 1893  Home       90'  Substitution   \n",
       "\n",
       "             Player Event       Remark Event  Player Assist       Player Out  \\\n",
       "1478       Pascal Schürpf           Tactical            NaN  Asumah Abubakar   \n",
       "1253        Gaëtan Karlen               Foul            NaN              NaN   \n",
       "522          Giovanni Sio           Tactical            NaN        Itaitinga   \n",
       "643     Christian Gentner  Right-footed shot  Sofyan Chader              NaN   \n",
       "2259           Lewin Blum               Foul            NaN              NaN   \n",
       "321        Mohamed Amoura           Tactical            NaN        Zan Celar   \n",
       "70         Christian Herc           Tactical            NaN     Amir Abrashi   \n",
       "521   Jean-Kévin Augustin           Tactical            NaN    Wouter Burger   \n",
       "141    Mihailo Stevanovic           Tactical            NaN     Nicky Beloko   \n",
       "1831            Kaly Sène              Delay            NaN     Zeki Amdouni   \n",
       "\n",
       "      Match ID  \n",
       "1478   3841001  \n",
       "1253   3840980  \n",
       "522    3840925  \n",
       "643    3840932  \n",
       "2259   3841072  \n",
       "321    3840914  \n",
       "70     3840899  \n",
       "521    3840925  \n",
       "141    3841163  \n",
       "1831   3841038  "
      ]
     },
     "execution_count": 15,
     "metadata": {},
     "output_type": "execute_result"
    }
   ],
   "source": [
    "events_SL.sample(10)"
   ]
  },
  {
   "cell_type": "code",
   "execution_count": 56,
   "metadata": {},
   "outputs": [],
   "source": [
    "# safe as csv in the data folder\n",
    "#events_SL.to_csv('./data/match_events_2022_2023_SL.csv', index=False)"
   ]
  },
  {
   "cell_type": "markdown",
   "metadata": {},
   "source": [
    "### 1.3 Match Info 2022/23"
   ]
  },
  {
   "cell_type": "markdown",
   "metadata": {},
   "source": [
    "Data Loading\n",
    "- match_info_1.csv\n",
    "- match_info_2.csv"
   ]
  },
  {
   "cell_type": "code",
   "execution_count": 18,
   "metadata": {},
   "outputs": [
    {
     "data": {
      "text/plain": [
       "(   Match ID       Home Team                Away Team        Result  \\\n",
       " 0   3840895  BSC Young Boys                FC Zürich  4:0\\r\\n(0:0)   \n",
       " 1   3840896   FC Winterthur            FC Basel 1893  1:1\\r\\n(1:0)   \n",
       " 2   3840897       FC Lugano                  FC Sion  2:3\\r\\n(0:1)   \n",
       " 3   3840898     Servette FC       FC St. Gallen 1879  1:0\\r\\n(1:0)   \n",
       " 4   3840899       FC Luzern  Grasshopper Club Zurich  1:1\\r\\n(1:1)   \n",
       " \n",
       "                        League  \n",
       " 0  Credit Suisse Super League  \n",
       " 1  Credit Suisse Super League  \n",
       " 2  Credit Suisse Super League  \n",
       " 3  Credit Suisse Super League  \n",
       " 4  Credit Suisse Super League  ,\n",
       "    Match ID                Home Team       Away Team        Result  \\\n",
       " 0   3841148            FC Basel 1893       FC Zürich  0:2\\r\\n(0:0)   \n",
       " 1   3841149  Grasshopper Club Zurich     Servette FC  2:3\\r\\n(1:1)   \n",
       " 2   3841150                FC Luzern       FC Lugano  2:2\\r\\n(2:0)   \n",
       " 3   3841151                  FC Sion   FC Winterthur  0:1\\r\\n(0:1)   \n",
       " 4   3841152       FC St. Gallen 1879  BSC Young Boys  0:2\\r\\n(0:0)   \n",
       " \n",
       "                        League  \n",
       " 0  Credit Suisse Super League  \n",
       " 1  Credit Suisse Super League  \n",
       " 2  Credit Suisse Super League  \n",
       " 3  Credit Suisse Super League  \n",
       " 4  Credit Suisse Super League  )"
      ]
     },
     "execution_count": 18,
     "metadata": {},
     "output_type": "execute_result"
    }
   ],
   "source": [
    "# Load the datasets\n",
    "minfo_1 = pd.read_csv('./data/matches_info_1.csv')\n",
    "minfo_2 = pd.read_csv('./data/matches_info_2.csv')\n",
    "\n",
    "minfo_1.head(), minfo_2.head()"
   ]
  },
  {
   "cell_type": "code",
   "execution_count": 24,
   "metadata": {},
   "outputs": [
    {
     "data": {
      "text/html": [
       "<div>\n",
       "<style scoped>\n",
       "    .dataframe tbody tr th:only-of-type {\n",
       "        vertical-align: middle;\n",
       "    }\n",
       "\n",
       "    .dataframe tbody tr th {\n",
       "        vertical-align: top;\n",
       "    }\n",
       "\n",
       "    .dataframe thead th {\n",
       "        text-align: right;\n",
       "    }\n",
       "</style>\n",
       "<table border=\"1\" class=\"dataframe\">\n",
       "  <thead>\n",
       "    <tr style=\"text-align: right;\">\n",
       "      <th></th>\n",
       "      <th>Match ID</th>\n",
       "      <th>Home Team</th>\n",
       "      <th>Away Team</th>\n",
       "      <th>Result</th>\n",
       "      <th>League</th>\n",
       "    </tr>\n",
       "  </thead>\n",
       "  <tbody>\n",
       "    <tr>\n",
       "      <th>103</th>\n",
       "      <td>3840998</td>\n",
       "      <td>Grasshopper Club Zurich</td>\n",
       "      <td>FC Basel 1893</td>\n",
       "      <td>1:0\\r\\n(1:0)</td>\n",
       "      <td>Credit Suisse Super League</td>\n",
       "    </tr>\n",
       "    <tr>\n",
       "      <th>143</th>\n",
       "      <td>3841038</td>\n",
       "      <td>FC Basel 1893</td>\n",
       "      <td>FC Sion</td>\n",
       "      <td>3:1\\r\\n(1:1)</td>\n",
       "      <td>Credit Suisse Super League</td>\n",
       "    </tr>\n",
       "    <tr>\n",
       "      <th>207</th>\n",
       "      <td>3841102</td>\n",
       "      <td>FC St. Gallen 1879</td>\n",
       "      <td>FC Winterthur</td>\n",
       "      <td>2:3\\r\\n(2:3)</td>\n",
       "      <td>Credit Suisse Super League</td>\n",
       "    </tr>\n",
       "    <tr>\n",
       "      <th>24</th>\n",
       "      <td>3841172</td>\n",
       "      <td>FC Zürich</td>\n",
       "      <td>Grasshopper Club Zurich</td>\n",
       "      <td>2:1\\r\\n(1:1)</td>\n",
       "      <td>Credit Suisse Super League</td>\n",
       "    </tr>\n",
       "    <tr>\n",
       "      <th>20</th>\n",
       "      <td>3840915</td>\n",
       "      <td>FC Sion</td>\n",
       "      <td>Grasshopper Club Zurich</td>\n",
       "      <td>2:2\\r\\n(1:0)</td>\n",
       "      <td>Credit Suisse Super League</td>\n",
       "    </tr>\n",
       "  </tbody>\n",
       "</table>\n",
       "</div>"
      ],
      "text/plain": [
       "     Match ID                Home Team                Away Team        Result  \\\n",
       "103   3840998  Grasshopper Club Zurich            FC Basel 1893  1:0\\r\\n(1:0)   \n",
       "143   3841038            FC Basel 1893                  FC Sion  3:1\\r\\n(1:1)   \n",
       "207   3841102       FC St. Gallen 1879            FC Winterthur  2:3\\r\\n(2:3)   \n",
       "24    3841172                FC Zürich  Grasshopper Club Zurich  2:1\\r\\n(1:1)   \n",
       "20    3840915                  FC Sion  Grasshopper Club Zurich  2:2\\r\\n(1:0)   \n",
       "\n",
       "                         League  \n",
       "103  Credit Suisse Super League  \n",
       "143  Credit Suisse Super League  \n",
       "207  Credit Suisse Super League  \n",
       "24   Credit Suisse Super League  \n",
       "20   Credit Suisse Super League  "
      ]
     },
     "execution_count": 24,
     "metadata": {},
     "output_type": "execute_result"
    }
   ],
   "source": [
    "# Concatenate the datasets\n",
    "m_info = pd.concat([minfo_1, minfo_2], axis=0)\n",
    "\n",
    "# safe as csv in the data folder\n",
    "m_info.to_csv('./data/matches_info_merged.csv', index=False)\n",
    "\n",
    "m_info.sample(5)"
   ]
  },
  {
   "cell_type": "markdown",
   "metadata": {},
   "source": [
    "Data Cleaning & Enrichment"
   ]
  },
  {
   "cell_type": "code",
   "execution_count": 25,
   "metadata": {},
   "outputs": [
    {
     "data": {
      "text/plain": [
       "Match ID     0\n",
       "Home Team    0\n",
       "Away Team    0\n",
       "Result       0\n",
       "League       0\n",
       "dtype: int64"
      ]
     },
     "execution_count": 25,
     "metadata": {},
     "output_type": "execute_result"
    }
   ],
   "source": [
    "# check for missing values\n",
    "missing_values_m = m_info.isnull().sum()\n",
    "\n",
    "missing_values_m"
   ]
  },
  {
   "cell_type": "code",
   "execution_count": 29,
   "metadata": {},
   "outputs": [
    {
     "data": {
      "text/plain": [
       "(298, 5)"
      ]
     },
     "execution_count": 29,
     "metadata": {},
     "output_type": "execute_result"
    }
   ],
   "source": [
    "m_info.shape"
   ]
  },
  {
   "cell_type": "code",
   "execution_count": 35,
   "metadata": {},
   "outputs": [],
   "source": [
    "#pd.set_option('display.max_rows', None)\n",
    "#m_info"
   ]
  },
  {
   "cell_type": "code",
   "execution_count": 34,
   "metadata": {},
   "outputs": [
    {
     "data": {
      "text/html": [
       "<div>\n",
       "<style scoped>\n",
       "    .dataframe tbody tr th:only-of-type {\n",
       "        vertical-align: middle;\n",
       "    }\n",
       "\n",
       "    .dataframe tbody tr th {\n",
       "        vertical-align: top;\n",
       "    }\n",
       "\n",
       "    .dataframe thead th {\n",
       "        text-align: right;\n",
       "    }\n",
       "</style>\n",
       "<table border=\"1\" class=\"dataframe\">\n",
       "  <thead>\n",
       "    <tr style=\"text-align: right;\">\n",
       "      <th></th>\n",
       "      <th>Match ID</th>\n",
       "      <th>Home Team</th>\n",
       "      <th>Away Team</th>\n",
       "      <th>Result</th>\n",
       "      <th>League</th>\n",
       "    </tr>\n",
       "  </thead>\n",
       "  <tbody>\n",
       "    <tr>\n",
       "      <th>172</th>\n",
       "      <td>3841067</td>\n",
       "      <td>FC Zürich</td>\n",
       "      <td>Servette FC</td>\n",
       "      <td>1:1 (0:0)</td>\n",
       "      <td>Credit Suisse Super League</td>\n",
       "    </tr>\n",
       "    <tr>\n",
       "      <th>60</th>\n",
       "      <td>3840955</td>\n",
       "      <td>US Valenciennes-Anzin</td>\n",
       "      <td>Stade Reims</td>\n",
       "      <td>1:2 (0:1)</td>\n",
       "      <td>Division 1</td>\n",
       "    </tr>\n",
       "    <tr>\n",
       "      <th>10</th>\n",
       "      <td>3841158</td>\n",
       "      <td>FC Nantes</td>\n",
       "      <td>Red Star FC</td>\n",
       "      <td>3:1 (2:1)</td>\n",
       "      <td>Division 1</td>\n",
       "    </tr>\n",
       "    <tr>\n",
       "      <th>145</th>\n",
       "      <td>3841040</td>\n",
       "      <td>Servette FC</td>\n",
       "      <td>Grasshopper Club Zurich</td>\n",
       "      <td>2:1 (1:0)</td>\n",
       "      <td>Credit Suisse Super League</td>\n",
       "    </tr>\n",
       "    <tr>\n",
       "      <th>13</th>\n",
       "      <td>3841161</td>\n",
       "      <td>AS Saint-Étienne</td>\n",
       "      <td>Angers SCO</td>\n",
       "      <td>5:0 (4:0)</td>\n",
       "      <td>Division 1</td>\n",
       "    </tr>\n",
       "  </tbody>\n",
       "</table>\n",
       "</div>"
      ],
      "text/plain": [
       "     Match ID              Home Team                Away Team     Result  \\\n",
       "172   3841067              FC Zürich              Servette FC  1:1 (0:0)   \n",
       "60    3840955  US Valenciennes-Anzin              Stade Reims  1:2 (0:1)   \n",
       "10    3841158              FC Nantes              Red Star FC  3:1 (2:1)   \n",
       "145   3841040            Servette FC  Grasshopper Club Zurich  2:1 (1:0)   \n",
       "13    3841161       AS Saint-Étienne               Angers SCO  5:0 (4:0)   \n",
       "\n",
       "                         League  \n",
       "172  Credit Suisse Super League  \n",
       "60                   Division 1  \n",
       "10                   Division 1  \n",
       "145  Credit Suisse Super League  \n",
       "13                   Division 1  "
      ]
     },
     "execution_count": 34,
     "metadata": {},
     "output_type": "execute_result"
    }
   ],
   "source": [
    "# getting rid of the '\\r\\n' in the result column\n",
    "m_info['Result'] = m_info['Result'].str.replace('\\r\\n', ' ')\n",
    "\n",
    "m_info.sample(5)"
   ]
  },
  {
   "cell_type": "code",
   "execution_count": 50,
   "metadata": {},
   "outputs": [],
   "source": [
    "# drop the columns HomeTeamPoints\tAwayTeamPoints\t\n",
    "m_info = m_info.drop(['HomeTeamPoints', 'AwayTeamPoints'], axis=1)"
   ]
  },
  {
   "cell_type": "code",
   "execution_count": 51,
   "metadata": {},
   "outputs": [],
   "source": [
    "# adding new columns for the points the home and away team got in the match\n",
    "## if the club won the match, they get 3 points, if they lost, they get 0 points, if they drew, they get 1 point\n",
    "## relevant result is the first 3 characters of the 'Result' column (the last 5 characters is the half-time result, which is not relevant for this task)\n",
    "m_info.insert(2, 'HomeTeamPoints', m_info['Result'].str[:3].apply(lambda x: 3 if x[0] > x[2] else 1 if x[0] == x[2] else 0))\n",
    "m_info.insert(3, 'AwayTeamPoints', m_info['Result'].str[:3].apply(lambda x: 3 if x[0] < x[2] else 1 if x[0] == x[2] else 0))\n"
   ]
  },
  {
   "cell_type": "code",
   "execution_count": 52,
   "metadata": {},
   "outputs": [
    {
     "data": {
      "text/html": [
       "<div>\n",
       "<style scoped>\n",
       "    .dataframe tbody tr th:only-of-type {\n",
       "        vertical-align: middle;\n",
       "    }\n",
       "\n",
       "    .dataframe tbody tr th {\n",
       "        vertical-align: top;\n",
       "    }\n",
       "\n",
       "    .dataframe thead th {\n",
       "        text-align: right;\n",
       "    }\n",
       "</style>\n",
       "<table border=\"1\" class=\"dataframe\">\n",
       "  <thead>\n",
       "    <tr style=\"text-align: right;\">\n",
       "      <th></th>\n",
       "      <th>Match ID</th>\n",
       "      <th>Home Team</th>\n",
       "      <th>HomeTeamPoints</th>\n",
       "      <th>AwayTeamPoints</th>\n",
       "      <th>Away Team</th>\n",
       "      <th>Result</th>\n",
       "      <th>League</th>\n",
       "    </tr>\n",
       "  </thead>\n",
       "  <tbody>\n",
       "    <tr>\n",
       "      <th>62</th>\n",
       "      <td>3841210</td>\n",
       "      <td>FC St. Gallen 1879</td>\n",
       "      <td>3</td>\n",
       "      <td>0</td>\n",
       "      <td>FC Sion</td>\n",
       "      <td>4:0 (3:0)</td>\n",
       "      <td>Credit Suisse Super League</td>\n",
       "    </tr>\n",
       "    <tr>\n",
       "      <th>90</th>\n",
       "      <td>3840985</td>\n",
       "      <td>Valencia CF</td>\n",
       "      <td>1</td>\n",
       "      <td>1</td>\n",
       "      <td>CF Barcelona</td>\n",
       "      <td>2:2 (2:2)</td>\n",
       "      <td>Copa del Generalísimo</td>\n",
       "    </tr>\n",
       "    <tr>\n",
       "      <th>21</th>\n",
       "      <td>3841169</td>\n",
       "      <td>FC Luzern</td>\n",
       "      <td>1</td>\n",
       "      <td>1</td>\n",
       "      <td>FC St. Gallen 1879</td>\n",
       "      <td>1:1 (1:1)</td>\n",
       "      <td>Credit Suisse Super League</td>\n",
       "    </tr>\n",
       "    <tr>\n",
       "      <th>61</th>\n",
       "      <td>3840956</td>\n",
       "      <td>CS Sedan-Ardennes</td>\n",
       "      <td>1</td>\n",
       "      <td>1</td>\n",
       "      <td>RC Strasbourg Alsace</td>\n",
       "      <td>0:0 (0:0)</td>\n",
       "      <td>Division 1</td>\n",
       "    </tr>\n",
       "    <tr>\n",
       "      <th>193</th>\n",
       "      <td>3841088</td>\n",
       "      <td>Paris FC</td>\n",
       "      <td>0</td>\n",
       "      <td>3</td>\n",
       "      <td>Angers SCO</td>\n",
       "      <td>1:2 (0:1)</td>\n",
       "      <td>Division 1</td>\n",
       "    </tr>\n",
       "  </tbody>\n",
       "</table>\n",
       "</div>"
      ],
      "text/plain": [
       "     Match ID           Home Team  HomeTeamPoints  AwayTeamPoints  \\\n",
       "62    3841210  FC St. Gallen 1879               3               0   \n",
       "90    3840985         Valencia CF               1               1   \n",
       "21    3841169           FC Luzern               1               1   \n",
       "61    3840956   CS Sedan-Ardennes               1               1   \n",
       "193   3841088            Paris FC               0               3   \n",
       "\n",
       "                Away Team     Result                      League  \n",
       "62                FC Sion  4:0 (3:0)  Credit Suisse Super League  \n",
       "90           CF Barcelona  2:2 (2:2)       Copa del Generalísimo  \n",
       "21     FC St. Gallen 1879  1:1 (1:1)  Credit Suisse Super League  \n",
       "61   RC Strasbourg Alsace  0:0 (0:0)                  Division 1  \n",
       "193            Angers SCO  1:2 (0:1)                  Division 1  "
      ]
     },
     "execution_count": 52,
     "metadata": {},
     "output_type": "execute_result"
    }
   ],
   "source": [
    "m_info.sample(5)"
   ]
  },
  {
   "cell_type": "markdown",
   "metadata": {},
   "source": [
    "With these new columns `HomeTeamPoints` and `AwayTeamPoint` we are now able to quantify the 'success' of a team based on the result"
   ]
  },
  {
   "cell_type": "code",
   "execution_count": 53,
   "metadata": {},
   "outputs": [
    {
     "data": {
      "text/plain": [
       "Home Team\n",
       "BSC Young Boys             18\n",
       "FC Winterthur              18\n",
       "FC Lugano                  18\n",
       "Servette FC                18\n",
       "FC Luzern                  18\n",
       "FC Zürich                  18\n",
       "FC St. Gallen 1879         18\n",
       "FC Basel 1893              18\n",
       "Grasshopper Club Zurich    18\n",
       "FC Sion                    18\n",
       "Name: count, dtype: int64"
      ]
     },
     "execution_count": 53,
     "metadata": {},
     "output_type": "execute_result"
    }
   ],
   "source": [
    "# filter the dataset\n",
    "# only keep the matches where the column 'Home Team' is in the dictionary 'clubs_to_keep'\n",
    "m_info_SL = m_info[m_info['Home Team'].isin(clubs_to_keep.keys())]\n",
    "\n",
    "m_info_SL['Home Team'].value_counts()"
   ]
  },
  {
   "cell_type": "code",
   "execution_count": 54,
   "metadata": {},
   "outputs": [
    {
     "data": {
      "text/html": [
       "<div>\n",
       "<style scoped>\n",
       "    .dataframe tbody tr th:only-of-type {\n",
       "        vertical-align: middle;\n",
       "    }\n",
       "\n",
       "    .dataframe tbody tr th {\n",
       "        vertical-align: top;\n",
       "    }\n",
       "\n",
       "    .dataframe thead th {\n",
       "        text-align: right;\n",
       "    }\n",
       "</style>\n",
       "<table border=\"1\" class=\"dataframe\">\n",
       "  <thead>\n",
       "    <tr style=\"text-align: right;\">\n",
       "      <th></th>\n",
       "      <th>Match ID</th>\n",
       "      <th>Home Team</th>\n",
       "      <th>HomeTeamPoints</th>\n",
       "      <th>AwayTeamPoints</th>\n",
       "      <th>Away Team</th>\n",
       "      <th>Result</th>\n",
       "      <th>League</th>\n",
       "    </tr>\n",
       "  </thead>\n",
       "  <tbody>\n",
       "    <tr>\n",
       "      <th>72</th>\n",
       "      <td>3840967</td>\n",
       "      <td>FC Zürich</td>\n",
       "      <td>1</td>\n",
       "      <td>1</td>\n",
       "      <td>BSC Young Boys</td>\n",
       "      <td>0:0 (0:0)</td>\n",
       "      <td>Credit Suisse Super League</td>\n",
       "    </tr>\n",
       "    <tr>\n",
       "      <th>115</th>\n",
       "      <td>3841010</td>\n",
       "      <td>Servette FC</td>\n",
       "      <td>1</td>\n",
       "      <td>1</td>\n",
       "      <td>FC Sion</td>\n",
       "      <td>2:2 (2:0)</td>\n",
       "      <td>Credit Suisse Super League</td>\n",
       "    </tr>\n",
       "    <tr>\n",
       "      <th>231</th>\n",
       "      <td>3841126</td>\n",
       "      <td>BSC Young Boys</td>\n",
       "      <td>3</td>\n",
       "      <td>0</td>\n",
       "      <td>FC Luzern</td>\n",
       "      <td>5:1 (3:1)</td>\n",
       "      <td>Credit Suisse Super League</td>\n",
       "    </tr>\n",
       "    <tr>\n",
       "      <th>8</th>\n",
       "      <td>3840903</td>\n",
       "      <td>Grasshopper Club Zurich</td>\n",
       "      <td>3</td>\n",
       "      <td>0</td>\n",
       "      <td>FC Lugano</td>\n",
       "      <td>2:1 (1:0)</td>\n",
       "      <td>Credit Suisse Super League</td>\n",
       "    </tr>\n",
       "    <tr>\n",
       "      <th>117</th>\n",
       "      <td>3841012</td>\n",
       "      <td>FC Zürich</td>\n",
       "      <td>3</td>\n",
       "      <td>0</td>\n",
       "      <td>FC St. Gallen 1879</td>\n",
       "      <td>1:0 (0:0)</td>\n",
       "      <td>Credit Suisse Super League</td>\n",
       "    </tr>\n",
       "  </tbody>\n",
       "</table>\n",
       "</div>"
      ],
      "text/plain": [
       "     Match ID                Home Team  HomeTeamPoints  AwayTeamPoints  \\\n",
       "72    3840967                FC Zürich               1               1   \n",
       "115   3841010              Servette FC               1               1   \n",
       "231   3841126           BSC Young Boys               3               0   \n",
       "8     3840903  Grasshopper Club Zurich               3               0   \n",
       "117   3841012                FC Zürich               3               0   \n",
       "\n",
       "              Away Team     Result                      League  \n",
       "72       BSC Young Boys  0:0 (0:0)  Credit Suisse Super League  \n",
       "115             FC Sion  2:2 (2:0)  Credit Suisse Super League  \n",
       "231           FC Luzern  5:1 (3:1)  Credit Suisse Super League  \n",
       "8             FC Lugano  2:1 (1:0)  Credit Suisse Super League  \n",
       "117  FC St. Gallen 1879  1:0 (0:0)  Credit Suisse Super League  "
      ]
     },
     "execution_count": 54,
     "metadata": {},
     "output_type": "execute_result"
    }
   ],
   "source": [
    "m_info_SL.sample(5)"
   ]
  },
  {
   "cell_type": "markdown",
   "metadata": {},
   "source": []
  },
  {
   "cell_type": "code",
   "execution_count": 55,
   "metadata": {},
   "outputs": [],
   "source": [
    "#safe as csv in the data folder\n",
    "#m_info_SL.to_csv('./data/matches_info_SL.csv', index=False)"
   ]
  },
  {
   "cell_type": "markdown",
   "metadata": {},
   "source": [
    "## 2. Determining a Stability Index (SI)"
   ]
  },
  {
   "cell_type": "markdown",
   "metadata": {},
   "source": [
    "#### Definition and Rationale:\n",
    "The Stability Index (SI) aims to quantify the consistency and reliability of a soccer team's lineup and performance across a season. A stable team typically exhibits fewer changes in its starting lineup, consistent performance in terms of match outcomes, and disciplined on-field behavior.\n",
    "\n",
    "#### Criteria for Stability Index:\n",
    "- **Lineup Consistency (LC)**: Measures how consistently the same players are starting matches. A lower number of different starters indicates a more stable lineup.\n",
    "- **Performance Consistency (PC)**: Evaluates the consistency in match outcomes (win, draw, loss). A team that has less fluctuation in match results can be considered more stable in performance.\n",
    "- **Disciplinary Record (DR)**: Assesses the number of disciplinary actions (yellow cards, red cards) a team receives. A team with fewer disciplinary actions is deemed more stable in terms of on-field behavior."
   ]
  },
  {
   "attachments": {
    "image.png": {
     "image/png": "[encoded data removed]"
    }
   },
   "cell_type": "markdown",
   "metadata": {},
   "source": [
    "![image.png](attachment:image.png)"
   ]
  },
  {
   "cell_type": "markdown",
   "metadata": {},
   "source": [
    "#### Assumptions:\n",
    "- The maximum number of starting players in a match is 11.\n",
    "- Match outcomes are quantified as 3 points for a win, 1 point for a draw, and 0 points for a loss.\n",
    "- Yellow cards count as 1, red cards as 2.\n",
    "\n",
    "#### Explanation:\n",
    "- **Lineup Consistency (LC)**: We normalize the number of unique starters by the total possible number of starting positions across all matches (Total Number of Matches × 11). A team that uses all its players equally would have an LC of 0, while a team that always uses the same starting lineup would have an LC close to 1.\n",
    "\n",
    "- **Performance Consistency (PC)**: We use the standard deviation of match outcomes to evaluate performance consistency. A lower standard deviation indicates that the team's performance (win/draw/loss) is more consistent.\n",
    "\n",
    "- **Disciplinary Record (DR)**: This metric is normalized by the number of matches to account for teams playing different numbers of matches (due to potential match cancellations or other reasons). A DR close to 1 indicates a team has very few cards per match, reflecting a stable disciplinary record.\n"
   ]
  },
  {
   "cell_type": "markdown",
   "metadata": {},
   "source": [
    "### 2.1 LineUp Consistency (LC)"
   ]
  },
  {
   "cell_type": "markdown",
   "metadata": {},
   "source": [
    "Steps to Calculate LC:\n",
    "\n",
    "1. From the lineups_SL dataset, count the number of unique starters for each team. A \"starter\" is a player listed in the starting lineup.\n",
    "2. Count the total number of matches for each team. Multiply this by 11 to get the total possible number of starting positions across all matches.\n",
    "3. Calculate the LC for each team using the formula LC = 1 - (Number of Unique Starters / (Total Number of Matches × 11)). --> normalization\n",
    "\n",
    "This will give us a measure of how often the team changes its starting lineup. A higher LC value indicates a more consistent starting lineup, whereas a lower value indicates more variation in the starting players throughout the season."
   ]
  },
  {
   "cell_type": "code",
   "execution_count": 67,
   "metadata": {},
   "outputs": [],
   "source": [
    "# Step 1: Count the number of unique starters for each team\n",
    "unique_starters = lineups_SL[lineups_SL['Status'] == 'Starting'].groupby('Club')['Player'].nunique()\n",
    "\n",
    "# Step 2: Count the total number of matches for each team for parameter LC\n",
    "total_matches = pd.concat([m_info_SL['Home Team'], m_info_SL['Away Team']]).value_counts() #LC (overall)\n",
    "total_home_matches = m_info_SL['Home Team'].value_counts() #subparameter LC Home\n",
    "total_away_matches = m_info_SL['Away Team'].value_counts() #subparameter LC Away\n",
    "\n",
    "# Step 3: Calculate the LC for each team -> normalization [0, 1]\n",
    "LC = 1 - (unique_starters / (total_matches * 11)) #LC (overall)\n",
    "LC_home = 1 - (unique_starters / (total_home_matches * 11)) #subparameter LC Home\n",
    "LC_away = 1 - (unique_starters / (total_away_matches * 11)) #subparameter LC Away\n"
   ]
  },
  {
   "cell_type": "code",
   "execution_count": 109,
   "metadata": {},
   "outputs": [
    {
     "data": {
      "text/html": [
       "<div>\n",
       "<style scoped>\n",
       "    .dataframe tbody tr th:only-of-type {\n",
       "        vertical-align: middle;\n",
       "    }\n",
       "\n",
       "    .dataframe tbody tr th {\n",
       "        vertical-align: top;\n",
       "    }\n",
       "\n",
       "    .dataframe thead th {\n",
       "        text-align: right;\n",
       "    }\n",
       "</style>\n",
       "<table border=\"1\" class=\"dataframe\">\n",
       "  <thead>\n",
       "    <tr style=\"text-align: right;\">\n",
       "      <th></th>\n",
       "      <th>LC</th>\n",
       "      <th>LC Home</th>\n",
       "      <th>LC Away</th>\n",
       "    </tr>\n",
       "  </thead>\n",
       "  <tbody>\n",
       "    <tr>\n",
       "      <th>FC St. Gallen 1879</th>\n",
       "      <td>0.936869</td>\n",
       "      <td>0.873737</td>\n",
       "      <td>0.873737</td>\n",
       "    </tr>\n",
       "    <tr>\n",
       "      <th>Grasshopper Club Zurich</th>\n",
       "      <td>0.936869</td>\n",
       "      <td>0.873737</td>\n",
       "      <td>0.873737</td>\n",
       "    </tr>\n",
       "    <tr>\n",
       "      <th>Servette FC</th>\n",
       "      <td>0.936869</td>\n",
       "      <td>0.873737</td>\n",
       "      <td>0.873737</td>\n",
       "    </tr>\n",
       "    <tr>\n",
       "      <th>FC Lugano</th>\n",
       "      <td>0.934343</td>\n",
       "      <td>0.868687</td>\n",
       "      <td>0.868687</td>\n",
       "    </tr>\n",
       "    <tr>\n",
       "      <th>FC Winterthur</th>\n",
       "      <td>0.934343</td>\n",
       "      <td>0.868687</td>\n",
       "      <td>0.868687</td>\n",
       "    </tr>\n",
       "    <tr>\n",
       "      <th>FC Sion</th>\n",
       "      <td>0.931818</td>\n",
       "      <td>0.863636</td>\n",
       "      <td>0.863636</td>\n",
       "    </tr>\n",
       "    <tr>\n",
       "      <th>BSC Young Boys</th>\n",
       "      <td>0.929293</td>\n",
       "      <td>0.858586</td>\n",
       "      <td>0.858586</td>\n",
       "    </tr>\n",
       "    <tr>\n",
       "      <th>FC Zürich</th>\n",
       "      <td>0.929293</td>\n",
       "      <td>0.858586</td>\n",
       "      <td>0.858586</td>\n",
       "    </tr>\n",
       "    <tr>\n",
       "      <th>FC Basel 1893</th>\n",
       "      <td>0.926768</td>\n",
       "      <td>0.853535</td>\n",
       "      <td>0.853535</td>\n",
       "    </tr>\n",
       "    <tr>\n",
       "      <th>FC Luzern</th>\n",
       "      <td>0.926768</td>\n",
       "      <td>0.853535</td>\n",
       "      <td>0.853535</td>\n",
       "    </tr>\n",
       "  </tbody>\n",
       "</table>\n",
       "</div>"
      ],
      "text/plain": [
       "                               LC   LC Home   LC Away\n",
       "FC St. Gallen 1879       0.936869  0.873737  0.873737\n",
       "Grasshopper Club Zurich  0.936869  0.873737  0.873737\n",
       "Servette FC              0.936869  0.873737  0.873737\n",
       "FC Lugano                0.934343  0.868687  0.868687\n",
       "FC Winterthur            0.934343  0.868687  0.868687\n",
       "FC Sion                  0.931818  0.863636  0.863636\n",
       "BSC Young Boys           0.929293  0.858586  0.858586\n",
       "FC Zürich                0.929293  0.858586  0.858586\n",
       "FC Basel 1893            0.926768  0.853535  0.853535\n",
       "FC Luzern                0.926768  0.853535  0.853535"
      ]
     },
     "execution_count": 109,
     "metadata": {},
     "output_type": "execute_result"
    }
   ],
   "source": [
    "# Create a DataFrame to hold all LC values\n",
    "LC_values = pd.DataFrame({\n",
    "    'LC': LC,\n",
    "    'LC Home': LC_home,\n",
    "    'LC Away': LC_away\n",
    "})\n",
    "\n",
    "# Display the DataFrame with all LC values\n",
    "LC_values = LC_values.sort_values(by='LC', ascending=False)\n",
    "LC_values"
   ]
  },
  {
   "cell_type": "code",
   "execution_count": 106,
   "metadata": {},
   "outputs": [
    {
     "data": {
      "image/png": "[encoded data removed]",
      "text/plain": [
       "<Figure size 1200x1000 with 1 Axes>"
      ]
     },
     "metadata": {},
     "output_type": "display_data"
    }
   ],
   "source": [
    "import matplotlib.pyplot as plt\n",
    "import numpy as np\n",
    "\n",
    "# concatenate LC, LC_home, and LC_away into 1 DataFrame\n",
    "LC_values = pd.concat([LC, LC_home, LC_away], axis=1)\n",
    "LC_values.columns = ['LC', 'LC Home', 'LC Away']\n",
    "\n",
    "\n",
    "# Adjusting the column names to match the DataFrame for the bar chart plotting\n",
    "LC_sorted.columns = ['LC_overall', 'LC_Home', 'LC_Away']\n",
    "LC_sorted = LC_sorted.sort_values(by='LC_overall', ascending=True)\n",
    "\n",
    "# Plotting the bar chart according to the specified requirements\n",
    "fig, ax = plt.subplots(figsize=(12, 10))\n",
    "\n",
    "# Set the positions of the bars\n",
    "indices = np.arange(len(LC_sorted))\n",
    "blue_bar_width = 0.25  # thicker width for the blue bar\n",
    "green_red_bar_width = 0.1  # width for the green and red bars\n",
    "\n",
    "# Plot each LC value with the blue bar on top\n",
    "ax.barh(indices + blue_bar_width / 1.7, LC_sorted['LC_overall'], height=blue_bar_width, color='blue', label='LC (overall)')\n",
    "ax.barh(indices - blue_bar_width / 2, LC_sorted['LC_Home'], height=green_red_bar_width, color='green', label='LC Home')\n",
    "ax.barh(indices - blue_bar_width / 2 + green_red_bar_width, LC_sorted['LC_Away'], height=green_red_bar_width, color='red', label='LC Away')\n",
    "\n",
    "# Add labels and title\n",
    "ax.set_xlabel('Lineup Consistency (LC)')\n",
    "ax.set_title('Lineup Consistency (LC) for Each Team')\n",
    "\n",
    "# Adding the exact value of the blue bars in the graph\n",
    "for index, value in enumerate(LC_sorted['LC_overall']):\n",
    "    ax.text(value, index - blue_bar_width / 2, f\"{value:.4f}\", va='center', ha='left')\n",
    "\n",
    "# Set the y-ticks to the middle of the group of bars for each team\n",
    "ax.set(yticks=indices, yticklabels=LC_sorted.index)\n",
    "ax.legend()\n",
    "\n",
    "# Place the legend outside the graph, at the lower left\n",
    "ax.legend(loc='upper center', bbox_to_anchor=(0.5, -0.05), fancybox=True, shadow=True, ncol=5)\n",
    "\n",
    "plt.tight_layout()\n",
    "plt.show()\n"
   ]
  },
  {
   "cell_type": "markdown",
   "metadata": {},
   "source": [
    "Result: \n",
    "- only minor variations exist between teams' LC, LC Home, and LC Away, but these are not substantial enough to indicate a different strategy for home vs. away games.\n",
    "- Across the board, the teams display high levels of lineup consistency.\n",
    "- In general, the teams in this league seem to rely on a consistent selection of players, possibly to leverage established team dynamics and to minimize the disruptions caused by frequent lineup changes.\n",
    "\n",
    "However, we need to consider more factors - let's define our next parameter\n",
    "\n"
   ]
  },
  {
   "cell_type": "markdown",
   "metadata": {},
   "source": [
    "### 2.2 Performance Consistency (PC)"
   ]
  },
  {
   "cell_type": "markdown",
   "metadata": {},
   "source": [
    "Steps to calculate PC:\n",
    "1. Assign Points: For each match in the m_info_SL dataset, assign points based on the result for both the home and away teams.\n",
    "2. Calculate Mean: Find the average points per match for each team.\n",
    "3. Calculate Standard Deviation: Compute the standard deviation of points for each team across all their matches.\n",
    "4. Normalize PC: Normalize the standard deviation by subtracting it from 1 to indicate the performance consistency, with a higher PC indicating more consistency in match results."
   ]
  },
  {
   "cell_type": "code",
   "execution_count": null,
   "metadata": {},
   "outputs": [],
   "source": []
  },
  {
   "cell_type": "code",
   "execution_count": null,
   "metadata": {},
   "outputs": [],
   "source": []
  },
  {
   "cell_type": "code",
   "execution_count": null,
   "metadata": {},
   "outputs": [],
   "source": []
  },
  {
   "cell_type": "code",
   "execution_count": null,
   "metadata": {},
   "outputs": [],
   "source": []
  },
  {
   "cell_type": "code",
   "execution_count": null,
   "metadata": {},
   "outputs": [],
   "source": []
  },
  {
   "cell_type": "code",
   "execution_count": null,
   "metadata": {},
   "outputs": [
    {
     "data": {
      "text/plain": [
       "Club\n",
       "FC St. Gallen 1879         0.936869\n",
       "Grasshopper Club Zurich    0.936869\n",
       "Servette FC                0.936869\n",
       "FC Lugano                  0.934343\n",
       "FC Winterthur              0.934343\n",
       "FC Sion                    0.931818\n",
       "BSC Young Boys             0.929293\n",
       "FC Zürich                  0.929293\n",
       "FC Basel 1893              0.926768\n",
       "FC Luzern                  0.926768\n",
       "dtype: float64"
      ]
     },
     "execution_count": 11,
     "metadata": {},
     "output_type": "execute_result"
    }
   ],
   "source": [
    "import pandas as pd\n",
    "import numpy as np\n",
    "\n",
    "# Calculate Lineup Consistency (LC)\n",
    "unique_starters_per_team = lineups_SL[lineups_SL['Status'] == 'Starting'].groupby('Club')['Player'].nunique()\n",
    "total_matches_per_team = lineups_SL.groupby('Club')['Match ID'].nunique()\n",
    "LC = 1 - (unique_starters_per_team / (total_matches_per_team * 11))\n",
    "\n",
    "# Show the results\n",
    "LC.sort_values(ascending=False)\n"
   ]
  },
  {
   "cell_type": "code",
   "execution_count": null,
   "metadata": {},
   "outputs": [
    {
     "data": {
      "text/plain": [
       "Club_home\n",
       "FC Winterthur              1.000000\n",
       "FC Zürich                  0.541047\n",
       "Servette FC                0.528231\n",
       "FC St. Gallen 1879         0.409076\n",
       "FC Sion                    0.228718\n",
       "FC Basel 1893              0.222498\n",
       "FC Lugano                  0.183757\n",
       "FC Luzern                  0.175188\n",
       "BSC Young Boys             0.158796\n",
       "Grasshopper Club Zurich    0.000000\n",
       "Name: Home Points, dtype: float64"
      ]
     },
     "execution_count": 38,
     "metadata": {},
     "output_type": "execute_result"
    }
   ],
   "source": [
    "# Step 1: Count goals per match for each team\n",
    "goals_per_match = events_SL[events_SL['Event'] == 'Goal'].groupby(['Match ID', 'Club']).size().reset_index(name='Goals')\n",
    "\n",
    "# Step 2: Determine match outcomes\n",
    "# First, merge this dataframe with itself on 'Match ID' to compare home vs. away goals\n",
    "match_goals = pd.merge(goals_per_match, goals_per_match, on='Match ID', suffixes=('_home', '_away'))\n",
    "\n",
    "# Ensure we're not comparing a team with itself\n",
    "match_goals = match_goals[match_goals['Club_home'] != match_goals['Club_away']]\n",
    "\n",
    "# Determine match outcomes for home team\n",
    "match_goals['Home Outcome'] = np.where(match_goals['Goals_home'] > match_goals['Goals_away'], 'Win',\n",
    "                                       np.where(match_goals['Goals_home'] == match_goals['Goals_away'], 'Draw', 'Loss'))\n",
    "\n",
    "# Mapping outcomes to numerical values: Win = 3, Draw = 1, Loss = 0\n",
    "outcome_to_points = {'Win': 3, 'Draw': 1, 'Loss': 0}\n",
    "match_goals['Home Points'] = match_goals['Home Outcome'].map(outcome_to_points)\n",
    "\n",
    "# Step 3: Calculate standard deviation of match outcomes\n",
    "# Calculate standard deviation for each team\n",
    "team_std_dev = match_goals.groupby('Club_home')['Home Points'].std()\n",
    "\n",
    "# Normalize standard deviation scores\n",
    "normalized_std_dev = (team_std_dev - team_std_dev.min()) / (team_std_dev.max() - team_std_dev.min())\n",
    "\n",
    "# Step 4: Performance Consistency (lower standard deviation = higher consistency)\n",
    "PC = 1 - normalized_std_dev\n",
    "\n",
    "PC.sort_values(ascending=False)\n"
   ]
  },
  {
   "cell_type": "markdown",
   "metadata": {},
   "source": [
    "General Interpretation:\n",
    "Higher PC scores - e.g. FC Winterthur - indicate a team had a more consistent performance level throughout the season, with fewer fluctuations in match outcomes. This could be seen as a sign of stability, suggesting the team was able to perform closer to their expected level in most matches.\n",
    "\n",
    "Lower PC scores reveal greater variability in performance, indicating a team's match outcomes were more unpredictable. This might reflect inconsistency in playing style, tactical adjustments, injuries, or other factors influencing match results.\n",
    "\n",
    "The PC score is a reflection of how predictably a team performed in terms of match results, not necessarily their success in terms of standings or championships. It's important to consider that consistency doesn't always correlate with being the top of the league; a team could consistently win, draw, or even lose."
   ]
  },
  {
   "cell_type": "code",
   "execution_count": null,
   "metadata": {},
   "outputs": [],
   "source": []
  },
  {
   "cell_type": "code",
   "execution_count": null,
   "metadata": {},
   "outputs": [],
   "source": [
    "# Adjusted Step 2: Prepare to determine match outcomes including draws without goals\n",
    "# We create a list of all unique match IDs from both the events and lineups datasets\n",
    "all_matches = pd.concat([lineups_SL['Match ID'], events_SL['Match ID']]).unique()\n",
    "\n",
    "# Creating a dataframe that includes all match IDs to ensure we capture matches without goals (draws)\n",
    "all_matches_df = pd.DataFrame(all_matches, columns=['Match ID'])\n",
    "\n",
    "# Including club information for home and away teams for each match ID from the lineups dataset\n",
    "# Assuming we have home and away team information in the lineups or another source\n",
    "# For demonstration, let's assume lineups_SL contains a column for 'Home Team' and 'Away Team' for simplicity\n",
    "# If not present, this data needs to be prepared based on match scheduling information\n",
    "\n",
    "# Merging goals data with all matches to include matches without goals\n",
    "all_match_goals = pd.merge(all_matches_df, goals_per_match, on='Match ID', how='left').fillna(0)\n",
    "\n",
    "# Separate home and away goals into two columns in the same row for each match\n",
    "# This step assumes modification or preparation to have home and away teams listed in all_match_goals or use a separate reliable source\n",
    "# For simplicity, we're skipping direct implementation details of this separation\n",
    "\n",
    "# Adjusted Step 2 continuation: Now, we directly compare home and away goals for each match in all_match_goals\n",
    "\n",
    "# Assuming all_match_goals has been prepared with 'Home Goals' and 'Away Goals' columns\n",
    "# Determine match outcomes (including draws without goals)\n",
    "all_match_goals['Outcome'] = np.where(all_match_goals['Home Goals'] > all_match_goals['Away Goals'], 'Win',\n",
    "                                      np.where(all_match_goals['Home Goals'] < all_match_goals['Away Goals'], 'Loss', 'Draw'))\n",
    "\n",
    "# Convert outcomes to points for home and away separately, then combine\n",
    "all_match_goals['Home Points'] = all_match_goals['Outcome'].map({'Win': 3, 'Draw': 1, 'Loss': 0})\n",
    "all_match_goals['Away Points'] = all_match_goals['Outcome'].map({'Win': 0, 'Draw': 1, 'Loss': 3})\n",
    "\n",
    "# Now, we combine the points for each team into a single column for simplified calculation\n",
    "# This involves reshaping the dataframe to have one row per team per match with their points\n",
    "\n",
    "# Step 3: Adjusted calculation of standard deviation of match outcomes\n",
    "# Assuming reshaping has been done and we have a 'Team' column and a 'Points' column\n",
    "team_points_std_dev = all_match_goals.groupby('Team')['Points'].std()\n",
    "\n",
    "# Normalize standard deviation scores\n",
    "normalized_std_dev = (team_points_std_dev - team_points_std_dev.min()) / (team_points_std_dev.max() - team_points_std_dev.min())\n",
    "\n",
    "# Adjusted Step 4: Performance Consistency (lower standard deviation = higher consistency)\n",
    "PC = 1 - normalized_std_dev\n",
    "\n",
    "PC.sort_values(ascending=False)\n"
   ]
  },
  {
   "cell_type": "code",
   "execution_count": null,
   "metadata": {},
   "outputs": [
    {
     "ename": "KeyError",
     "evalue": "'Goals_home'",
     "output_type": "error",
     "traceback": [
      "\u001b[1;31m---------------------------------------------------------------------------\u001b[0m",
      "\u001b[1;31mKeyError\u001b[0m                                  Traceback (most recent call last)",
      "File \u001b[1;32mc:\\PythonVenv\\PBL_Servette\\SFCenv\\Lib\\site-packages\\pandas\\core\\indexes\\base.py:3791\u001b[0m, in \u001b[0;36mIndex.get_loc\u001b[1;34m(self, key)\u001b[0m\n\u001b[0;32m   3790\u001b[0m \u001b[38;5;28;01mtry\u001b[39;00m:\n\u001b[1;32m-> 3791\u001b[0m     \u001b[38;5;28;01mreturn\u001b[39;00m \u001b[38;5;28;43mself\u001b[39;49m\u001b[38;5;241;43m.\u001b[39;49m\u001b[43m_engine\u001b[49m\u001b[38;5;241;43m.\u001b[39;49m\u001b[43mget_loc\u001b[49m\u001b[43m(\u001b[49m\u001b[43mcasted_key\u001b[49m\u001b[43m)\u001b[49m\n\u001b[0;32m   3792\u001b[0m \u001b[38;5;28;01mexcept\u001b[39;00m \u001b[38;5;167;01mKeyError\u001b[39;00m \u001b[38;5;28;01mas\u001b[39;00m err:\n",
      "File \u001b[1;32mindex.pyx:152\u001b[0m, in \u001b[0;36mpandas._libs.index.IndexEngine.get_loc\u001b[1;34m()\u001b[0m\n",
      "File \u001b[1;32mindex.pyx:181\u001b[0m, in \u001b[0;36mpandas._libs.index.IndexEngine.get_loc\u001b[1;34m()\u001b[0m\n",
      "File \u001b[1;32mpandas\\_libs\\hashtable_class_helper.pxi:7080\u001b[0m, in \u001b[0;36mpandas._libs.hashtable.PyObjectHashTable.get_item\u001b[1;34m()\u001b[0m\n",
      "File \u001b[1;32mpandas\\_libs\\hashtable_class_helper.pxi:7088\u001b[0m, in \u001b[0;36mpandas._libs.hashtable.PyObjectHashTable.get_item\u001b[1;34m()\u001b[0m\n",
      "\u001b[1;31mKeyError\u001b[0m: 'Goals_home'",
      "\nThe above exception was the direct cause of the following exception:\n",
      "\u001b[1;31mKeyError\u001b[0m                                  Traceback (most recent call last)",
      "Cell \u001b[1;32mIn[39], line 20\u001b[0m\n\u001b[0;32m     10\u001b[0m match_goals_full \u001b[38;5;241m=\u001b[39m pd\u001b[38;5;241m.\u001b[39mmerge(match_outcomes, goals_per_match, on\u001b[38;5;241m=\u001b[39m\u001b[38;5;124m'\u001b[39m\u001b[38;5;124mMatch ID\u001b[39m\u001b[38;5;124m'\u001b[39m, how\u001b[38;5;241m=\u001b[39m\u001b[38;5;124m'\u001b[39m\u001b[38;5;124mleft\u001b[39m\u001b[38;5;124m'\u001b[39m)\u001b[38;5;241m.\u001b[39mfillna(\u001b[38;5;241m0\u001b[39m)\n\u001b[0;32m     12\u001b[0m \u001b[38;5;66;03m# We need to identify home and away teams for each match now\u001b[39;00m\n\u001b[0;32m     13\u001b[0m \u001b[38;5;66;03m# Assuming we have a way to extract that information, possibly from lineups_SL or another source\u001b[39;00m\n\u001b[0;32m     14\u001b[0m \n\u001b[0;32m     15\u001b[0m \u001b[38;5;66;03m# For demonstration, let's assume we have two additional columns in match_goals_full: 'Home Club' and 'Away Club'\u001b[39;00m\n\u001b[0;32m     16\u001b[0m \n\u001b[0;32m     17\u001b[0m \u001b[38;5;66;03m# Now, calculate match outcomes considering home and away performances\u001b[39;00m\n\u001b[0;32m     18\u001b[0m match_goals_full[\u001b[38;5;124m'\u001b[39m\u001b[38;5;124mOutcome\u001b[39m\u001b[38;5;124m'\u001b[39m] \u001b[38;5;241m=\u001b[39m np\u001b[38;5;241m.\u001b[39mselect(\n\u001b[0;32m     19\u001b[0m     [\n\u001b[1;32m---> 20\u001b[0m         \u001b[43mmatch_goals_full\u001b[49m\u001b[43m[\u001b[49m\u001b[38;5;124;43m'\u001b[39;49m\u001b[38;5;124;43mGoals_home\u001b[39;49m\u001b[38;5;124;43m'\u001b[39;49m\u001b[43m]\u001b[49m \u001b[38;5;241m>\u001b[39m match_goals_full[\u001b[38;5;124m'\u001b[39m\u001b[38;5;124mGoals_away\u001b[39m\u001b[38;5;124m'\u001b[39m],\n\u001b[0;32m     21\u001b[0m         match_goals_full[\u001b[38;5;124m'\u001b[39m\u001b[38;5;124mGoals_home\u001b[39m\u001b[38;5;124m'\u001b[39m] \u001b[38;5;241m<\u001b[39m match_goals_full[\u001b[38;5;124m'\u001b[39m\u001b[38;5;124mGoals_away\u001b[39m\u001b[38;5;124m'\u001b[39m]\n\u001b[0;32m     22\u001b[0m     ],\n\u001b[0;32m     23\u001b[0m     [\u001b[38;5;124m'\u001b[39m\u001b[38;5;124mHome Win\u001b[39m\u001b[38;5;124m'\u001b[39m, \u001b[38;5;124m'\u001b[39m\u001b[38;5;124mAway Win\u001b[39m\u001b[38;5;124m'\u001b[39m],\n\u001b[0;32m     24\u001b[0m     default\u001b[38;5;241m=\u001b[39m\u001b[38;5;124m'\u001b[39m\u001b[38;5;124mDraw\u001b[39m\u001b[38;5;124m'\u001b[39m\n\u001b[0;32m     25\u001b[0m )\n\u001b[0;32m     27\u001b[0m \u001b[38;5;66;03m# Assign points to each outcome for both home and away teams and calculate their standard deviations\u001b[39;00m\n\u001b[0;32m     28\u001b[0m \n\u001b[0;32m     29\u001b[0m \u001b[38;5;66;03m# The implementation of calculating points and standard deviations would follow a similar logic to the initial approach,\u001b[39;00m\n\u001b[0;32m     30\u001b[0m \u001b[38;5;66;03m# ensuring we calculate for both home and away games uniformly and consider all matches, including draws with no goals scored.\u001b[39;00m\n\u001b[0;32m     31\u001b[0m \n\u001b[0;32m     32\u001b[0m \u001b[38;5;66;03m# The revised approach would then calculate PC with these fully considered match outcomes.\u001b[39;00m\n",
      "File \u001b[1;32mc:\\PythonVenv\\PBL_Servette\\SFCenv\\Lib\\site-packages\\pandas\\core\\frame.py:3893\u001b[0m, in \u001b[0;36mDataFrame.__getitem__\u001b[1;34m(self, key)\u001b[0m\n\u001b[0;32m   3891\u001b[0m \u001b[38;5;28;01mif\u001b[39;00m \u001b[38;5;28mself\u001b[39m\u001b[38;5;241m.\u001b[39mcolumns\u001b[38;5;241m.\u001b[39mnlevels \u001b[38;5;241m>\u001b[39m \u001b[38;5;241m1\u001b[39m:\n\u001b[0;32m   3892\u001b[0m     \u001b[38;5;28;01mreturn\u001b[39;00m \u001b[38;5;28mself\u001b[39m\u001b[38;5;241m.\u001b[39m_getitem_multilevel(key)\n\u001b[1;32m-> 3893\u001b[0m indexer \u001b[38;5;241m=\u001b[39m \u001b[38;5;28;43mself\u001b[39;49m\u001b[38;5;241;43m.\u001b[39;49m\u001b[43mcolumns\u001b[49m\u001b[38;5;241;43m.\u001b[39;49m\u001b[43mget_loc\u001b[49m\u001b[43m(\u001b[49m\u001b[43mkey\u001b[49m\u001b[43m)\u001b[49m\n\u001b[0;32m   3894\u001b[0m \u001b[38;5;28;01mif\u001b[39;00m is_integer(indexer):\n\u001b[0;32m   3895\u001b[0m     indexer \u001b[38;5;241m=\u001b[39m [indexer]\n",
      "File \u001b[1;32mc:\\PythonVenv\\PBL_Servette\\SFCenv\\Lib\\site-packages\\pandas\\core\\indexes\\base.py:3798\u001b[0m, in \u001b[0;36mIndex.get_loc\u001b[1;34m(self, key)\u001b[0m\n\u001b[0;32m   3793\u001b[0m     \u001b[38;5;28;01mif\u001b[39;00m \u001b[38;5;28misinstance\u001b[39m(casted_key, \u001b[38;5;28mslice\u001b[39m) \u001b[38;5;129;01mor\u001b[39;00m (\n\u001b[0;32m   3794\u001b[0m         \u001b[38;5;28misinstance\u001b[39m(casted_key, abc\u001b[38;5;241m.\u001b[39mIterable)\n\u001b[0;32m   3795\u001b[0m         \u001b[38;5;129;01mand\u001b[39;00m \u001b[38;5;28many\u001b[39m(\u001b[38;5;28misinstance\u001b[39m(x, \u001b[38;5;28mslice\u001b[39m) \u001b[38;5;28;01mfor\u001b[39;00m x \u001b[38;5;129;01min\u001b[39;00m casted_key)\n\u001b[0;32m   3796\u001b[0m     ):\n\u001b[0;32m   3797\u001b[0m         \u001b[38;5;28;01mraise\u001b[39;00m InvalidIndexError(key)\n\u001b[1;32m-> 3798\u001b[0m     \u001b[38;5;28;01mraise\u001b[39;00m \u001b[38;5;167;01mKeyError\u001b[39;00m(key) \u001b[38;5;28;01mfrom\u001b[39;00m \u001b[38;5;21;01merr\u001b[39;00m\n\u001b[0;32m   3799\u001b[0m \u001b[38;5;28;01mexcept\u001b[39;00m \u001b[38;5;167;01mTypeError\u001b[39;00m:\n\u001b[0;32m   3800\u001b[0m     \u001b[38;5;66;03m# If we have a listlike key, _check_indexing_error will raise\u001b[39;00m\n\u001b[0;32m   3801\u001b[0m     \u001b[38;5;66;03m#  InvalidIndexError. Otherwise we fall through and re-raise\u001b[39;00m\n\u001b[0;32m   3802\u001b[0m     \u001b[38;5;66;03m#  the TypeError.\u001b[39;00m\n\u001b[0;32m   3803\u001b[0m     \u001b[38;5;28mself\u001b[39m\u001b[38;5;241m.\u001b[39m_check_indexing_error(key)\n",
      "\u001b[1;31mKeyError\u001b[0m: 'Goals_home'"
     ]
    }
   ],
   "source": [
    "# Assuming `lineups_SL` has all match IDs listed for all teams (both home and away)\n",
    "\n",
    "# Identify all unique match IDs\n",
    "all_matches = lineups_SL['Match ID'].unique()\n",
    "\n",
    "# Create a DataFrame to track all matches and their outcomes\n",
    "match_outcomes = pd.DataFrame(all_matches, columns=['Match ID'])\n",
    "\n",
    "# Merge goals_per_match with match_outcomes to include all matches, even those without goals\n",
    "match_goals_full = pd.merge(match_outcomes, goals_per_match, on='Match ID', how='left').fillna(0)\n",
    "\n",
    "# We need to identify home and away teams for each match now\n",
    "# Assuming we have a way to extract that information, possibly from lineups_SL or another source\n",
    "\n",
    "# For demonstration, let's assume we have two additional columns in match_goals_full: 'Home Club' and 'Away Club'\n",
    "\n",
    "# Now, calculate match outcomes considering home and away performances\n",
    "match_goals_full['Outcome'] = np.select(\n",
    "    [\n",
    "        match_goals_full['Goals_home'] > match_goals_full['Goals_away'],\n",
    "        match_goals_full['Goals_home'] < match_goals_full['Goals_away']\n",
    "    ],\n",
    "    ['Home Win', 'Away Win'],\n",
    "    default='Draw'\n",
    ")\n",
    "\n",
    "# Assign points to each outcome for both home and away teams and calculate their standard deviations\n",
    "\n",
    "# The implementation of calculating points and standard deviations would follow a similar logic to the initial approach,\n",
    "# ensuring we calculate for both home and away games uniformly and consider all matches, including draws with no goals scored.\n",
    "\n",
    "# The revised approach would then calculate PC with these fully considered match outcomes.\n"
   ]
  },
  {
   "cell_type": "code",
   "execution_count": null,
   "metadata": {},
   "outputs": [],
   "source": [
    "# Calculate Disciplinary Record (DR)\n",
    "# Assuming that the 'events_SL' DataFrame has a 'Card' column where yellow is 1 and red is 2\n",
    "total_cards_per_team = events_SL[events_SL['Event'].isin(['Yellow Card', 'Red Card'])].groupby('Club')['Event'].count()\n",
    "DR = 1 - (total_cards_per_team / total_matches_per_team)\n",
    "\n",
    "# Calculate the Stability Index (SI)\n",
    "SI = (LC + PC + DR) / 3\n",
    "\n",
    "# Print the Stability Index for each team\n",
    "SI.sort_values(ascending=False)"
   ]
  },
  {
   "cell_type": "code",
   "execution_count": null,
   "metadata": {},
   "outputs": [],
   "source": []
  },
  {
   "cell_type": "code",
   "execution_count": null,
   "metadata": {},
   "outputs": [],
   "source": []
  },
  {
   "cell_type": "markdown",
   "metadata": {},
   "source": []
  }
 ],
 "metadata": {
  "kernelspec": {
   "display_name": "SFCenv",
   "language": "python",
   "name": "python3"
  },
  "language_info": {
   "codemirror_mode": {
    "name": "ipython",
    "version": 3
   },
   "file_extension": ".py",
   "mimetype": "text/x-python",
   "name": "python",
   "nbconvert_exporter": "python",
   "pygments_lexer": "ipython3",
   "version": "3.11.5"
  }
 },
 "nbformat": 4,
 "nbformat_minor": 2
}
